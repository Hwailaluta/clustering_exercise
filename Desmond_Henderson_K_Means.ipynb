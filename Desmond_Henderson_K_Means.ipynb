{
  "nbformat": 4,
  "nbformat_minor": 0,
  "metadata": {
    "colab": {
      "name": "SNS_data.ipynb",
      "provenance": [],
      "collapsed_sections": []
    },
    "kernelspec": {
      "name": "python3",
      "display_name": "Python 3"
    }
  },
  "cells": [
    {
      "cell_type": "markdown",
      "metadata": {
        "id": "NZUiBDXBDN-K",
        "colab_type": "text"
      },
      "source": [
        "<h1> Study of Teen SNS Data Using K Means Clustering </h1>"
      ]
    },
    {
      "cell_type": "markdown",
      "metadata": {
        "id": "DHkR9tMwnO9Z",
        "colab_type": "text"
      },
      "source": [
        "<p> Social Networking Sites (SNS) are a large repository of everyday interactions. Teenage demographics are known to be active on these sites. As such, this data can be useful to marketers. Finding target consumer archetypes within these demographics allows for better use of marketing resources. Clustering should achieve this result and offer insights into these demographics. </p>\n",
        "\n",
        "<h3> Dataset Information </h3>\n",
        "\n",
        "<p> The dataset includes numerical data of 30,000 high school students in the U.S. The numbers are counts of how often each word appears in their SNS activity. These words include common activities associated with various behaviors and market demographics. "
      ]
    },
    {
      "cell_type": "code",
      "metadata": {
        "id": "buGPvPxP-2BL",
        "colab_type": "code",
        "colab": {
          "base_uri": "https://localhost:8080/",
          "height": 71
        },
        "outputId": "20a671cb-d69c-4e02-ba57-2546133cf136"
      },
      "source": [
        "import pandas as pd\n",
        "import seaborn as sb\n",
        "import matplotlib.pyplot as plt\n",
        "import numpy as np\n",
        "from sklearn.preprocessing import StandardScaler, OneHotEncoder, Normalizer\n",
        "from sklearn.cluster import KMeans\n",
        "from sklearn.metrics import silhouette_score\n",
        "from scipy import stats"
      ],
      "execution_count": 1,
      "outputs": [
        {
          "output_type": "stream",
          "text": [
            "/usr/local/lib/python3.6/dist-packages/statsmodels/tools/_testing.py:19: FutureWarning: pandas.util.testing is deprecated. Use the functions in the public API at pandas.testing instead.\n",
            "  import pandas.util.testing as tm\n"
          ],
          "name": "stderr"
        }
      ]
    },
    {
      "cell_type": "code",
      "metadata": {
        "id": "4RNV7mIn_WqE",
        "colab_type": "code",
        "colab": {}
      },
      "source": [
        "df = pd.read_csv(\"snsdata.csv\")"
      ],
      "execution_count": 0,
      "outputs": []
    },
    {
      "cell_type": "markdown",
      "metadata": {
        "id": "zGRlZs7L0mXZ",
        "colab_type": "text"
      },
      "source": [
        "<h2> Data Summary </h2>"
      ]
    },
    {
      "cell_type": "code",
      "metadata": {
        "id": "-DKwKILlAON4",
        "colab_type": "code",
        "outputId": "36b8532a-459a-4062-aa01-87ac503f3903",
        "colab": {
          "base_uri": "https://localhost:8080/",
          "height": 224
        }
      },
      "source": [
        "df.head()"
      ],
      "execution_count": 3,
      "outputs": [
        {
          "output_type": "execute_result",
          "data": {
            "text/html": [
              "<div>\n",
              "<style scoped>\n",
              "    .dataframe tbody tr th:only-of-type {\n",
              "        vertical-align: middle;\n",
              "    }\n",
              "\n",
              "    .dataframe tbody tr th {\n",
              "        vertical-align: top;\n",
              "    }\n",
              "\n",
              "    .dataframe thead th {\n",
              "        text-align: right;\n",
              "    }\n",
              "</style>\n",
              "<table border=\"1\" class=\"dataframe\">\n",
              "  <thead>\n",
              "    <tr style=\"text-align: right;\">\n",
              "      <th></th>\n",
              "      <th>gradyear</th>\n",
              "      <th>gender</th>\n",
              "      <th>age</th>\n",
              "      <th>friends</th>\n",
              "      <th>basketball</th>\n",
              "      <th>football</th>\n",
              "      <th>soccer</th>\n",
              "      <th>softball</th>\n",
              "      <th>volleyball</th>\n",
              "      <th>swimming</th>\n",
              "      <th>cheerleading</th>\n",
              "      <th>baseball</th>\n",
              "      <th>tennis</th>\n",
              "      <th>sports</th>\n",
              "      <th>cute</th>\n",
              "      <th>sex</th>\n",
              "      <th>sexy</th>\n",
              "      <th>hot</th>\n",
              "      <th>kissed</th>\n",
              "      <th>dance</th>\n",
              "      <th>band</th>\n",
              "      <th>marching</th>\n",
              "      <th>music</th>\n",
              "      <th>rock</th>\n",
              "      <th>god</th>\n",
              "      <th>church</th>\n",
              "      <th>jesus</th>\n",
              "      <th>bible</th>\n",
              "      <th>hair</th>\n",
              "      <th>dress</th>\n",
              "      <th>blonde</th>\n",
              "      <th>mall</th>\n",
              "      <th>shopping</th>\n",
              "      <th>clothes</th>\n",
              "      <th>hollister</th>\n",
              "      <th>abercrombie</th>\n",
              "      <th>die</th>\n",
              "      <th>death</th>\n",
              "      <th>drunk</th>\n",
              "      <th>drugs</th>\n",
              "    </tr>\n",
              "  </thead>\n",
              "  <tbody>\n",
              "    <tr>\n",
              "      <th>0</th>\n",
              "      <td>2006</td>\n",
              "      <td>M</td>\n",
              "      <td>18.982</td>\n",
              "      <td>7</td>\n",
              "      <td>0</td>\n",
              "      <td>0</td>\n",
              "      <td>0</td>\n",
              "      <td>0</td>\n",
              "      <td>0</td>\n",
              "      <td>0</td>\n",
              "      <td>0</td>\n",
              "      <td>0</td>\n",
              "      <td>0</td>\n",
              "      <td>0</td>\n",
              "      <td>0</td>\n",
              "      <td>0</td>\n",
              "      <td>0</td>\n",
              "      <td>0</td>\n",
              "      <td>0</td>\n",
              "      <td>1</td>\n",
              "      <td>0</td>\n",
              "      <td>0</td>\n",
              "      <td>0</td>\n",
              "      <td>0</td>\n",
              "      <td>0</td>\n",
              "      <td>0</td>\n",
              "      <td>0</td>\n",
              "      <td>0</td>\n",
              "      <td>0</td>\n",
              "      <td>0</td>\n",
              "      <td>0</td>\n",
              "      <td>0</td>\n",
              "      <td>0</td>\n",
              "      <td>0</td>\n",
              "      <td>0</td>\n",
              "      <td>0</td>\n",
              "      <td>0</td>\n",
              "      <td>0</td>\n",
              "      <td>0</td>\n",
              "      <td>0</td>\n",
              "    </tr>\n",
              "    <tr>\n",
              "      <th>1</th>\n",
              "      <td>2006</td>\n",
              "      <td>F</td>\n",
              "      <td>18.801</td>\n",
              "      <td>0</td>\n",
              "      <td>0</td>\n",
              "      <td>1</td>\n",
              "      <td>0</td>\n",
              "      <td>0</td>\n",
              "      <td>0</td>\n",
              "      <td>0</td>\n",
              "      <td>0</td>\n",
              "      <td>0</td>\n",
              "      <td>0</td>\n",
              "      <td>0</td>\n",
              "      <td>1</td>\n",
              "      <td>0</td>\n",
              "      <td>0</td>\n",
              "      <td>0</td>\n",
              "      <td>0</td>\n",
              "      <td>0</td>\n",
              "      <td>0</td>\n",
              "      <td>0</td>\n",
              "      <td>2</td>\n",
              "      <td>2</td>\n",
              "      <td>1</td>\n",
              "      <td>0</td>\n",
              "      <td>0</td>\n",
              "      <td>0</td>\n",
              "      <td>6</td>\n",
              "      <td>4</td>\n",
              "      <td>0</td>\n",
              "      <td>1</td>\n",
              "      <td>0</td>\n",
              "      <td>0</td>\n",
              "      <td>0</td>\n",
              "      <td>0</td>\n",
              "      <td>0</td>\n",
              "      <td>0</td>\n",
              "      <td>0</td>\n",
              "      <td>0</td>\n",
              "    </tr>\n",
              "    <tr>\n",
              "      <th>2</th>\n",
              "      <td>2006</td>\n",
              "      <td>M</td>\n",
              "      <td>18.335</td>\n",
              "      <td>69</td>\n",
              "      <td>0</td>\n",
              "      <td>1</td>\n",
              "      <td>0</td>\n",
              "      <td>0</td>\n",
              "      <td>0</td>\n",
              "      <td>0</td>\n",
              "      <td>0</td>\n",
              "      <td>0</td>\n",
              "      <td>0</td>\n",
              "      <td>0</td>\n",
              "      <td>0</td>\n",
              "      <td>0</td>\n",
              "      <td>0</td>\n",
              "      <td>0</td>\n",
              "      <td>0</td>\n",
              "      <td>0</td>\n",
              "      <td>2</td>\n",
              "      <td>0</td>\n",
              "      <td>1</td>\n",
              "      <td>0</td>\n",
              "      <td>0</td>\n",
              "      <td>0</td>\n",
              "      <td>0</td>\n",
              "      <td>0</td>\n",
              "      <td>0</td>\n",
              "      <td>0</td>\n",
              "      <td>0</td>\n",
              "      <td>0</td>\n",
              "      <td>0</td>\n",
              "      <td>0</td>\n",
              "      <td>0</td>\n",
              "      <td>0</td>\n",
              "      <td>0</td>\n",
              "      <td>1</td>\n",
              "      <td>0</td>\n",
              "      <td>0</td>\n",
              "    </tr>\n",
              "    <tr>\n",
              "      <th>3</th>\n",
              "      <td>2006</td>\n",
              "      <td>F</td>\n",
              "      <td>18.875</td>\n",
              "      <td>0</td>\n",
              "      <td>0</td>\n",
              "      <td>0</td>\n",
              "      <td>0</td>\n",
              "      <td>0</td>\n",
              "      <td>0</td>\n",
              "      <td>0</td>\n",
              "      <td>0</td>\n",
              "      <td>0</td>\n",
              "      <td>0</td>\n",
              "      <td>0</td>\n",
              "      <td>1</td>\n",
              "      <td>0</td>\n",
              "      <td>0</td>\n",
              "      <td>0</td>\n",
              "      <td>0</td>\n",
              "      <td>0</td>\n",
              "      <td>0</td>\n",
              "      <td>0</td>\n",
              "      <td>0</td>\n",
              "      <td>1</td>\n",
              "      <td>0</td>\n",
              "      <td>0</td>\n",
              "      <td>0</td>\n",
              "      <td>0</td>\n",
              "      <td>0</td>\n",
              "      <td>0</td>\n",
              "      <td>0</td>\n",
              "      <td>0</td>\n",
              "      <td>0</td>\n",
              "      <td>0</td>\n",
              "      <td>0</td>\n",
              "      <td>0</td>\n",
              "      <td>0</td>\n",
              "      <td>0</td>\n",
              "      <td>0</td>\n",
              "      <td>0</td>\n",
              "    </tr>\n",
              "    <tr>\n",
              "      <th>4</th>\n",
              "      <td>2006</td>\n",
              "      <td>NaN</td>\n",
              "      <td>18.995</td>\n",
              "      <td>10</td>\n",
              "      <td>0</td>\n",
              "      <td>0</td>\n",
              "      <td>0</td>\n",
              "      <td>0</td>\n",
              "      <td>0</td>\n",
              "      <td>0</td>\n",
              "      <td>0</td>\n",
              "      <td>0</td>\n",
              "      <td>0</td>\n",
              "      <td>0</td>\n",
              "      <td>0</td>\n",
              "      <td>1</td>\n",
              "      <td>0</td>\n",
              "      <td>0</td>\n",
              "      <td>5</td>\n",
              "      <td>1</td>\n",
              "      <td>1</td>\n",
              "      <td>0</td>\n",
              "      <td>3</td>\n",
              "      <td>0</td>\n",
              "      <td>1</td>\n",
              "      <td>0</td>\n",
              "      <td>0</td>\n",
              "      <td>0</td>\n",
              "      <td>1</td>\n",
              "      <td>0</td>\n",
              "      <td>0</td>\n",
              "      <td>0</td>\n",
              "      <td>2</td>\n",
              "      <td>0</td>\n",
              "      <td>0</td>\n",
              "      <td>0</td>\n",
              "      <td>0</td>\n",
              "      <td>0</td>\n",
              "      <td>1</td>\n",
              "      <td>1</td>\n",
              "    </tr>\n",
              "  </tbody>\n",
              "</table>\n",
              "</div>"
            ],
            "text/plain": [
              "   gradyear gender     age  friends  ...  die  death  drunk  drugs\n",
              "0      2006      M  18.982        7  ...    0      0      0      0\n",
              "1      2006      F  18.801        0  ...    0      0      0      0\n",
              "2      2006      M  18.335       69  ...    0      1      0      0\n",
              "3      2006      F  18.875        0  ...    0      0      0      0\n",
              "4      2006    NaN  18.995       10  ...    0      0      1      1\n",
              "\n",
              "[5 rows x 40 columns]"
            ]
          },
          "metadata": {
            "tags": []
          },
          "execution_count": 3
        }
      ]
    },
    {
      "cell_type": "code",
      "metadata": {
        "id": "mua_Xv5e_8XV",
        "colab_type": "code",
        "outputId": "7b75ae39-7ce5-4458-d1a4-56ae5d2ec267",
        "colab": {
          "base_uri": "https://localhost:8080/",
          "height": 317
        }
      },
      "source": [
        "df.describe()"
      ],
      "execution_count": 4,
      "outputs": [
        {
          "output_type": "execute_result",
          "data": {
            "text/html": [
              "<div>\n",
              "<style scoped>\n",
              "    .dataframe tbody tr th:only-of-type {\n",
              "        vertical-align: middle;\n",
              "    }\n",
              "\n",
              "    .dataframe tbody tr th {\n",
              "        vertical-align: top;\n",
              "    }\n",
              "\n",
              "    .dataframe thead th {\n",
              "        text-align: right;\n",
              "    }\n",
              "</style>\n",
              "<table border=\"1\" class=\"dataframe\">\n",
              "  <thead>\n",
              "    <tr style=\"text-align: right;\">\n",
              "      <th></th>\n",
              "      <th>gradyear</th>\n",
              "      <th>age</th>\n",
              "      <th>friends</th>\n",
              "      <th>basketball</th>\n",
              "      <th>football</th>\n",
              "      <th>soccer</th>\n",
              "      <th>softball</th>\n",
              "      <th>volleyball</th>\n",
              "      <th>swimming</th>\n",
              "      <th>cheerleading</th>\n",
              "      <th>baseball</th>\n",
              "      <th>tennis</th>\n",
              "      <th>sports</th>\n",
              "      <th>cute</th>\n",
              "      <th>sex</th>\n",
              "      <th>sexy</th>\n",
              "      <th>hot</th>\n",
              "      <th>kissed</th>\n",
              "      <th>dance</th>\n",
              "      <th>band</th>\n",
              "      <th>marching</th>\n",
              "      <th>music</th>\n",
              "      <th>rock</th>\n",
              "      <th>god</th>\n",
              "      <th>church</th>\n",
              "      <th>jesus</th>\n",
              "      <th>bible</th>\n",
              "      <th>hair</th>\n",
              "      <th>dress</th>\n",
              "      <th>blonde</th>\n",
              "      <th>mall</th>\n",
              "      <th>shopping</th>\n",
              "      <th>clothes</th>\n",
              "      <th>hollister</th>\n",
              "      <th>abercrombie</th>\n",
              "      <th>die</th>\n",
              "      <th>death</th>\n",
              "      <th>drunk</th>\n",
              "      <th>drugs</th>\n",
              "    </tr>\n",
              "  </thead>\n",
              "  <tbody>\n",
              "    <tr>\n",
              "      <th>count</th>\n",
              "      <td>30000.000000</td>\n",
              "      <td>24914.000000</td>\n",
              "      <td>30000.000000</td>\n",
              "      <td>30000.000000</td>\n",
              "      <td>30000.000000</td>\n",
              "      <td>30000.000000</td>\n",
              "      <td>30000.000000</td>\n",
              "      <td>30000.000000</td>\n",
              "      <td>30000.00000</td>\n",
              "      <td>30000.000000</td>\n",
              "      <td>30000.000000</td>\n",
              "      <td>30000.000000</td>\n",
              "      <td>30000.000000</td>\n",
              "      <td>30000.000000</td>\n",
              "      <td>30000.000000</td>\n",
              "      <td>30000.000000</td>\n",
              "      <td>30000.000000</td>\n",
              "      <td>30000.000000</td>\n",
              "      <td>30000.000000</td>\n",
              "      <td>30000.000000</td>\n",
              "      <td>30000.000000</td>\n",
              "      <td>30000.000000</td>\n",
              "      <td>30000.000000</td>\n",
              "      <td>30000.000000</td>\n",
              "      <td>30000.000000</td>\n",
              "      <td>30000.000000</td>\n",
              "      <td>30000.000000</td>\n",
              "      <td>30000.000000</td>\n",
              "      <td>30000.000000</td>\n",
              "      <td>30000.000000</td>\n",
              "      <td>30000.000000</td>\n",
              "      <td>30000.000000</td>\n",
              "      <td>30000.00000</td>\n",
              "      <td>30000.000000</td>\n",
              "      <td>30000.000000</td>\n",
              "      <td>30000.000000</td>\n",
              "      <td>30000.000000</td>\n",
              "      <td>30000.000000</td>\n",
              "      <td>30000.000000</td>\n",
              "    </tr>\n",
              "    <tr>\n",
              "      <th>mean</th>\n",
              "      <td>2007.500000</td>\n",
              "      <td>17.993950</td>\n",
              "      <td>30.179467</td>\n",
              "      <td>0.267333</td>\n",
              "      <td>0.252300</td>\n",
              "      <td>0.222767</td>\n",
              "      <td>0.161200</td>\n",
              "      <td>0.143133</td>\n",
              "      <td>0.13440</td>\n",
              "      <td>0.106633</td>\n",
              "      <td>0.104933</td>\n",
              "      <td>0.087333</td>\n",
              "      <td>0.139967</td>\n",
              "      <td>0.322867</td>\n",
              "      <td>0.209400</td>\n",
              "      <td>0.141200</td>\n",
              "      <td>0.126600</td>\n",
              "      <td>0.103200</td>\n",
              "      <td>0.425167</td>\n",
              "      <td>0.299600</td>\n",
              "      <td>0.040600</td>\n",
              "      <td>0.737833</td>\n",
              "      <td>0.243333</td>\n",
              "      <td>0.465300</td>\n",
              "      <td>0.248167</td>\n",
              "      <td>0.112067</td>\n",
              "      <td>0.021333</td>\n",
              "      <td>0.422567</td>\n",
              "      <td>0.110967</td>\n",
              "      <td>0.098933</td>\n",
              "      <td>0.257367</td>\n",
              "      <td>0.353000</td>\n",
              "      <td>0.14850</td>\n",
              "      <td>0.069867</td>\n",
              "      <td>0.051167</td>\n",
              "      <td>0.184100</td>\n",
              "      <td>0.114233</td>\n",
              "      <td>0.087967</td>\n",
              "      <td>0.060433</td>\n",
              "    </tr>\n",
              "    <tr>\n",
              "      <th>std</th>\n",
              "      <td>1.118053</td>\n",
              "      <td>7.858054</td>\n",
              "      <td>36.530877</td>\n",
              "      <td>0.804708</td>\n",
              "      <td>0.705357</td>\n",
              "      <td>0.917226</td>\n",
              "      <td>0.739707</td>\n",
              "      <td>0.639943</td>\n",
              "      <td>0.51699</td>\n",
              "      <td>0.514333</td>\n",
              "      <td>0.521726</td>\n",
              "      <td>0.516961</td>\n",
              "      <td>0.471080</td>\n",
              "      <td>0.802441</td>\n",
              "      <td>1.123504</td>\n",
              "      <td>0.528209</td>\n",
              "      <td>0.479145</td>\n",
              "      <td>0.509338</td>\n",
              "      <td>1.162574</td>\n",
              "      <td>1.118786</td>\n",
              "      <td>0.287091</td>\n",
              "      <td>1.252366</td>\n",
              "      <td>0.720375</td>\n",
              "      <td>1.343226</td>\n",
              "      <td>0.834028</td>\n",
              "      <td>0.581709</td>\n",
              "      <td>0.204645</td>\n",
              "      <td>1.097958</td>\n",
              "      <td>0.449436</td>\n",
              "      <td>1.942319</td>\n",
              "      <td>0.695758</td>\n",
              "      <td>0.724391</td>\n",
              "      <td>0.47264</td>\n",
              "      <td>0.346779</td>\n",
              "      <td>0.279555</td>\n",
              "      <td>0.624516</td>\n",
              "      <td>0.436796</td>\n",
              "      <td>0.399125</td>\n",
              "      <td>0.345522</td>\n",
              "    </tr>\n",
              "    <tr>\n",
              "      <th>min</th>\n",
              "      <td>2006.000000</td>\n",
              "      <td>3.086000</td>\n",
              "      <td>0.000000</td>\n",
              "      <td>0.000000</td>\n",
              "      <td>0.000000</td>\n",
              "      <td>0.000000</td>\n",
              "      <td>0.000000</td>\n",
              "      <td>0.000000</td>\n",
              "      <td>0.00000</td>\n",
              "      <td>0.000000</td>\n",
              "      <td>0.000000</td>\n",
              "      <td>0.000000</td>\n",
              "      <td>0.000000</td>\n",
              "      <td>0.000000</td>\n",
              "      <td>0.000000</td>\n",
              "      <td>0.000000</td>\n",
              "      <td>0.000000</td>\n",
              "      <td>0.000000</td>\n",
              "      <td>0.000000</td>\n",
              "      <td>0.000000</td>\n",
              "      <td>0.000000</td>\n",
              "      <td>0.000000</td>\n",
              "      <td>0.000000</td>\n",
              "      <td>0.000000</td>\n",
              "      <td>0.000000</td>\n",
              "      <td>0.000000</td>\n",
              "      <td>0.000000</td>\n",
              "      <td>0.000000</td>\n",
              "      <td>0.000000</td>\n",
              "      <td>0.000000</td>\n",
              "      <td>0.000000</td>\n",
              "      <td>0.000000</td>\n",
              "      <td>0.00000</td>\n",
              "      <td>0.000000</td>\n",
              "      <td>0.000000</td>\n",
              "      <td>0.000000</td>\n",
              "      <td>0.000000</td>\n",
              "      <td>0.000000</td>\n",
              "      <td>0.000000</td>\n",
              "    </tr>\n",
              "    <tr>\n",
              "      <th>25%</th>\n",
              "      <td>2006.750000</td>\n",
              "      <td>16.312000</td>\n",
              "      <td>3.000000</td>\n",
              "      <td>0.000000</td>\n",
              "      <td>0.000000</td>\n",
              "      <td>0.000000</td>\n",
              "      <td>0.000000</td>\n",
              "      <td>0.000000</td>\n",
              "      <td>0.00000</td>\n",
              "      <td>0.000000</td>\n",
              "      <td>0.000000</td>\n",
              "      <td>0.000000</td>\n",
              "      <td>0.000000</td>\n",
              "      <td>0.000000</td>\n",
              "      <td>0.000000</td>\n",
              "      <td>0.000000</td>\n",
              "      <td>0.000000</td>\n",
              "      <td>0.000000</td>\n",
              "      <td>0.000000</td>\n",
              "      <td>0.000000</td>\n",
              "      <td>0.000000</td>\n",
              "      <td>0.000000</td>\n",
              "      <td>0.000000</td>\n",
              "      <td>0.000000</td>\n",
              "      <td>0.000000</td>\n",
              "      <td>0.000000</td>\n",
              "      <td>0.000000</td>\n",
              "      <td>0.000000</td>\n",
              "      <td>0.000000</td>\n",
              "      <td>0.000000</td>\n",
              "      <td>0.000000</td>\n",
              "      <td>0.000000</td>\n",
              "      <td>0.00000</td>\n",
              "      <td>0.000000</td>\n",
              "      <td>0.000000</td>\n",
              "      <td>0.000000</td>\n",
              "      <td>0.000000</td>\n",
              "      <td>0.000000</td>\n",
              "      <td>0.000000</td>\n",
              "    </tr>\n",
              "    <tr>\n",
              "      <th>50%</th>\n",
              "      <td>2007.500000</td>\n",
              "      <td>17.287000</td>\n",
              "      <td>20.000000</td>\n",
              "      <td>0.000000</td>\n",
              "      <td>0.000000</td>\n",
              "      <td>0.000000</td>\n",
              "      <td>0.000000</td>\n",
              "      <td>0.000000</td>\n",
              "      <td>0.00000</td>\n",
              "      <td>0.000000</td>\n",
              "      <td>0.000000</td>\n",
              "      <td>0.000000</td>\n",
              "      <td>0.000000</td>\n",
              "      <td>0.000000</td>\n",
              "      <td>0.000000</td>\n",
              "      <td>0.000000</td>\n",
              "      <td>0.000000</td>\n",
              "      <td>0.000000</td>\n",
              "      <td>0.000000</td>\n",
              "      <td>0.000000</td>\n",
              "      <td>0.000000</td>\n",
              "      <td>0.000000</td>\n",
              "      <td>0.000000</td>\n",
              "      <td>0.000000</td>\n",
              "      <td>0.000000</td>\n",
              "      <td>0.000000</td>\n",
              "      <td>0.000000</td>\n",
              "      <td>0.000000</td>\n",
              "      <td>0.000000</td>\n",
              "      <td>0.000000</td>\n",
              "      <td>0.000000</td>\n",
              "      <td>0.000000</td>\n",
              "      <td>0.00000</td>\n",
              "      <td>0.000000</td>\n",
              "      <td>0.000000</td>\n",
              "      <td>0.000000</td>\n",
              "      <td>0.000000</td>\n",
              "      <td>0.000000</td>\n",
              "      <td>0.000000</td>\n",
              "    </tr>\n",
              "    <tr>\n",
              "      <th>75%</th>\n",
              "      <td>2008.250000</td>\n",
              "      <td>18.259000</td>\n",
              "      <td>44.000000</td>\n",
              "      <td>0.000000</td>\n",
              "      <td>0.000000</td>\n",
              "      <td>0.000000</td>\n",
              "      <td>0.000000</td>\n",
              "      <td>0.000000</td>\n",
              "      <td>0.00000</td>\n",
              "      <td>0.000000</td>\n",
              "      <td>0.000000</td>\n",
              "      <td>0.000000</td>\n",
              "      <td>0.000000</td>\n",
              "      <td>0.000000</td>\n",
              "      <td>0.000000</td>\n",
              "      <td>0.000000</td>\n",
              "      <td>0.000000</td>\n",
              "      <td>0.000000</td>\n",
              "      <td>0.000000</td>\n",
              "      <td>0.000000</td>\n",
              "      <td>0.000000</td>\n",
              "      <td>1.000000</td>\n",
              "      <td>0.000000</td>\n",
              "      <td>1.000000</td>\n",
              "      <td>0.000000</td>\n",
              "      <td>0.000000</td>\n",
              "      <td>0.000000</td>\n",
              "      <td>0.000000</td>\n",
              "      <td>0.000000</td>\n",
              "      <td>0.000000</td>\n",
              "      <td>0.000000</td>\n",
              "      <td>1.000000</td>\n",
              "      <td>0.00000</td>\n",
              "      <td>0.000000</td>\n",
              "      <td>0.000000</td>\n",
              "      <td>0.000000</td>\n",
              "      <td>0.000000</td>\n",
              "      <td>0.000000</td>\n",
              "      <td>0.000000</td>\n",
              "    </tr>\n",
              "    <tr>\n",
              "      <th>max</th>\n",
              "      <td>2009.000000</td>\n",
              "      <td>106.927000</td>\n",
              "      <td>830.000000</td>\n",
              "      <td>24.000000</td>\n",
              "      <td>15.000000</td>\n",
              "      <td>27.000000</td>\n",
              "      <td>17.000000</td>\n",
              "      <td>14.000000</td>\n",
              "      <td>31.00000</td>\n",
              "      <td>9.000000</td>\n",
              "      <td>16.000000</td>\n",
              "      <td>15.000000</td>\n",
              "      <td>12.000000</td>\n",
              "      <td>18.000000</td>\n",
              "      <td>114.000000</td>\n",
              "      <td>18.000000</td>\n",
              "      <td>10.000000</td>\n",
              "      <td>26.000000</td>\n",
              "      <td>30.000000</td>\n",
              "      <td>66.000000</td>\n",
              "      <td>11.000000</td>\n",
              "      <td>64.000000</td>\n",
              "      <td>21.000000</td>\n",
              "      <td>79.000000</td>\n",
              "      <td>44.000000</td>\n",
              "      <td>30.000000</td>\n",
              "      <td>11.000000</td>\n",
              "      <td>37.000000</td>\n",
              "      <td>9.000000</td>\n",
              "      <td>327.000000</td>\n",
              "      <td>12.000000</td>\n",
              "      <td>11.000000</td>\n",
              "      <td>8.00000</td>\n",
              "      <td>9.000000</td>\n",
              "      <td>8.000000</td>\n",
              "      <td>22.000000</td>\n",
              "      <td>14.000000</td>\n",
              "      <td>8.000000</td>\n",
              "      <td>16.000000</td>\n",
              "    </tr>\n",
              "  </tbody>\n",
              "</table>\n",
              "</div>"
            ],
            "text/plain": [
              "           gradyear           age  ...         drunk         drugs\n",
              "count  30000.000000  24914.000000  ...  30000.000000  30000.000000\n",
              "mean    2007.500000     17.993950  ...      0.087967      0.060433\n",
              "std        1.118053      7.858054  ...      0.399125      0.345522\n",
              "min     2006.000000      3.086000  ...      0.000000      0.000000\n",
              "25%     2006.750000     16.312000  ...      0.000000      0.000000\n",
              "50%     2007.500000     17.287000  ...      0.000000      0.000000\n",
              "75%     2008.250000     18.259000  ...      0.000000      0.000000\n",
              "max     2009.000000    106.927000  ...      8.000000     16.000000\n",
              "\n",
              "[8 rows x 39 columns]"
            ]
          },
          "metadata": {
            "tags": []
          },
          "execution_count": 4
        }
      ]
    },
    {
      "cell_type": "code",
      "metadata": {
        "id": "_MX4JEazaWAk",
        "colab_type": "code",
        "colab": {
          "base_uri": "https://localhost:8080/",
          "height": 313
        },
        "outputId": "411515e5-1d48-4b88-c098-1b1f2fa8d610"
      },
      "source": [
        "k2, p = stats.normaltest(df.friends)\n",
        "print(k2, p)\n",
        "sb.distplot(df.friends)"
      ],
      "execution_count": 7,
      "outputs": [
        {
          "output_type": "stream",
          "text": [
            "22710.368860108163 0.0\n"
          ],
          "name": "stdout"
        },
        {
          "output_type": "execute_result",
          "data": {
            "text/plain": [
              "<matplotlib.axes._subplots.AxesSubplot at 0x7f3911aa77b8>"
            ]
          },
          "metadata": {
            "tags": []
          },
          "execution_count": 7
        },
        {
          "output_type": "display_data",
          "data": {
            "image/png": "[encoded data removed]",
            "text/plain": [
              "<Figure size 432x288 with 1 Axes>"
            ]
          },
          "metadata": {
            "tags": [],
            "needs_background": "light"
          }
        }
      ]
    },
    {
      "cell_type": "markdown",
      "metadata": {
        "id": "zVYuDLe4a3no",
        "colab_type": "text"
      },
      "source": [
        "<p> Scipy's normaltest tests for skewness and kurtosis to find if a distribution is normal. With a p-value of 0, I reject the null hypothesis that 'friends' has a normal distribution. By examining a distribution plot, I can see that this assessment is correct with a heavy positive skew and heavy tail. </p>"
      ]
    },
    {
      "cell_type": "code",
      "metadata": {
        "id": "l-hPNTgHbcdv",
        "colab_type": "code",
        "colab": {
          "base_uri": "https://localhost:8080/",
          "height": 1000
        },
        "outputId": "31984031-099f-4be9-953a-0357c9b06fdb"
      },
      "source": [
        "columns = df.columns[3:]\n",
        "\n",
        "for column in columns:\n",
        "  data = np.array(df[column].values).astype(np.float)\n",
        "  k2, p = stats.normaltest(data)\n",
        "  print(column, k2, p)\n",
        "  sb.distplot(data)\n",
        "  plt.show()"
      ],
      "execution_count": 0,
      "outputs": [
        {
          "output_type": "stream",
          "text": [
            "friends 22710.368860108163 0.0\n"
          ],
          "name": "stdout"
        },
        {
          "output_type": "display_data",
          "data": {
            "image/png": "[encoded data removed]",
            "text/plain": [
              "<Figure size 432x288 with 1 Axes>"
            ]
          },
          "metadata": {
            "tags": [],
            "needs_background": "light"
          }
        },
        {
          "output_type": "stream",
          "text": [
            "basketball 35327.97990390386 0.0\n"
          ],
          "name": "stdout"
        },
        {
          "output_type": "display_data",
          "data": {
            "image/png": "[encoded data removed]",
            "text/plain": [
              "<Figure size 432x288 with 1 Axes>"
            ]
          },
          "metadata": {
            "tags": [],
            "needs_background": "light"
          }
        },
        {
          "output_type": "stream",
          "text": [
            "football 28111.803099656623 0.0\n"
          ],
          "name": "stdout"
        },
        {
          "output_type": "display_data",
          "data": {
            "image/png": "[encoded data removed]",
            "text/plain": [
              "<Figure size 432x288 with 1 Axes>"
            ]
          },
          "metadata": {
            "tags": [],
            "needs_background": "light"
          }
        },
        {
          "output_type": "stream",
          "text": [
            "soccer 40772.54395190608 0.0\n"
          ],
          "name": "stdout"
        },
        {
          "output_type": "display_data",
          "data": {
            "image/png": "[encoded data removed]",
            "text/plain": [
              "<Figure size 432x288 with 1 Axes>"
            ]
          },
          "metadata": {
            "tags": [],
            "needs_background": "light"
          }
        },
        {
          "output_type": "stream",
          "text": [
            "softball 40000.54469912166 0.0\n"
          ],
          "name": "stdout"
        },
        {
          "output_type": "display_data",
          "data": {
            "image/png": "[encoded data removed]",
            "text/plain": [
              "<Figure size 432x288 with 1 Axes>"
            ]
          },
          "metadata": {
            "tags": [],
            "needs_background": "light"
          }
        },
        {
          "output_type": "stream",
          "text": [
            "volleyball 39564.52485657644 0.0\n"
          ],
          "name": "stdout"
        },
        {
          "output_type": "display_data",
          "data": {
            "image/png": "[encoded data removed]",
            "text/plain": [
              "<Figure size 432x288 with 1 Axes>"
            ]
          },
          "metadata": {
            "tags": [],
            "needs_background": "light"
          }
        },
        {
          "output_type": "stream",
          "text": [
            "swimming 53431.54729925369 0.0\n"
          ],
          "name": "stdout"
        },
        {
          "output_type": "display_data",
          "data": {
            "image/png": "[encoded data removed]",
            "text/plain": [
              "<Figure size 432x288 with 1 Axes>"
            ]
          },
          "metadata": {
            "tags": [],
            "needs_background": "light"
          }
        },
        {
          "output_type": "stream",
          "text": [
            "cheerleading 37512.04125078547 0.0\n"
          ],
          "name": "stdout"
        },
        {
          "output_type": "display_data",
          "data": {
            "image/png": "[encoded data removed]",
            "text/plain": [
              "<Figure size 432x288 with 1 Axes>"
            ]
          },
          "metadata": {
            "tags": [],
            "needs_background": "light"
          }
        },
        {
          "output_type": "stream",
          "text": [
            "baseball 45112.320177869624 0.0\n"
          ],
          "name": "stdout"
        },
        {
          "output_type": "display_data",
          "data": {
            "image/png": "[encoded data removed]",
            "text/plain": [
              "<Figure size 432x288 with 1 Axes>"
            ]
          },
          "metadata": {
            "tags": [],
            "needs_background": "light"
          }
        },
        {
          "output_type": "stream",
          "text": [
            "tennis 47854.84536569412 0.0\n"
          ],
          "name": "stdout"
        },
        {
          "output_type": "display_data",
          "data": {
            "image/png": "[encoded data removed]",
            "text/plain": [
              "<Figure size 432x288 with 1 Axes>"
            ]
          },
          "metadata": {
            "tags": [],
            "needs_background": "light"
          }
        },
        {
          "output_type": "stream",
          "text": [
            "sports 34804.59652220463 0.0\n"
          ],
          "name": "stdout"
        },
        {
          "output_type": "display_data",
          "data": {
            "image/png": "[encoded data removed]",
            "text/plain": [
              "<Figure size 432x288 with 1 Axes>"
            ]
          },
          "metadata": {
            "tags": [],
            "needs_background": "light"
          }
        },
        {
          "output_type": "stream",
          "text": [
            "cute 27854.48272541404 0.0\n"
          ],
          "name": "stdout"
        },
        {
          "output_type": "display_data",
          "data": {
            "image/png": "[encoded data removed]",
            "text/plain": [
              "<Figure size 432x288 with 1 Axes>"
            ]
          },
          "metadata": {
            "tags": [],
            "needs_background": "light"
          }
        },
        {
          "output_type": "stream",
          "text": [
            "sex 88564.58770883703 0.0\n"
          ],
          "name": "stdout"
        },
        {
          "output_type": "display_data",
          "data": {
            "image/png": "[encoded data removed]",
            "text/plain": [
              "<Figure size 432x288 with 1 Axes>"
            ]
          },
          "metadata": {
            "tags": [],
            "needs_background": "light"
          }
        },
        {
          "output_type": "stream",
          "text": [
            "sexy 40519.106310002986 0.0\n"
          ],
          "name": "stdout"
        },
        {
          "output_type": "display_data",
          "data": {
            "image/png": "[encoded data removed]",
            "text/plain": [
              "<Figure size 432x288 with 1 Axes>"
            ]
          },
          "metadata": {
            "tags": [],
            "needs_background": "light"
          }
        },
        {
          "output_type": "stream",
          "text": [
            "hot 33364.58848019334 0.0\n"
          ],
          "name": "stdout"
        },
        {
          "output_type": "display_data",
          "data": {
            "image/png": "[encoded data removed]",
            "text/plain": [
              "<Figure size 432x288 with 1 Axes>"
            ]
          },
          "metadata": {
            "tags": [],
            "needs_background": "light"
          }
        },
        {
          "output_type": "stream",
          "text": [
            "kissed 49027.33302021401 0.0\n"
          ],
          "name": "stdout"
        },
        {
          "output_type": "display_data",
          "data": {
            "image/png": "[encoded data removed]",
            "text/plain": [
              "<Figure size 432x288 with 1 Axes>"
            ]
          },
          "metadata": {
            "tags": [],
            "needs_background": "light"
          }
        },
        {
          "output_type": "stream",
          "text": [
            "dance 35831.1598673402 0.0\n"
          ],
          "name": "stdout"
        },
        {
          "output_type": "display_data",
          "data": {
            "image/png": "[encoded data removed]",
            "text/plain": [
              "<Figure size 432x288 with 1 Axes>"
            ]
          },
          "metadata": {
            "tags": [],
            "needs_background": "light"
          }
        },
        {
          "output_type": "stream",
          "text": [
            "band 55287.541082152486 0.0\n"
          ],
          "name": "stdout"
        },
        {
          "output_type": "display_data",
          "data": {
            "image/png": "[encoded data removed]",
            "text/plain": [
              "<Figure size 432x288 with 1 Axes>"
            ]
          },
          "metadata": {
            "tags": [],
            "needs_background": "light"
          }
        },
        {
          "output_type": "stream",
          "text": [
            "marching 51225.88746399722 0.0\n"
          ],
          "name": "stdout"
        },
        {
          "output_type": "display_data",
          "data": {
            "image/png": "[encoded data removed]",
            "text/plain": [
              "<Figure size 432x288 with 1 Axes>"
            ]
          },
          "metadata": {
            "tags": [],
            "needs_background": "light"
          }
        }
      ]
    },
    {
      "cell_type": "markdown",
      "metadata": {
        "id": "95aUko9NuIGd",
        "colab_type": "text"
      },
      "source": [
        "<p> Due to having all non-Gaussian distributions in the data, a StandardScaler may prove ineffective. The data will be centered around 0, but in many cases there is a heavy positive skew. In this case, the values will mostly be similar negative numbers which won't inform the model. However, I will compare later to normalized data to see what achieves better results. </p>"
      ]
    },
    {
      "cell_type": "code",
      "metadata": {
        "id": "IK3CIJoEEpkD",
        "colab_type": "code",
        "outputId": "b4aebe73-dff3-41e1-b832-06554853030d",
        "colab": {
          "base_uri": "https://localhost:8080/",
          "height": 697
        }
      },
      "source": [
        "pd.set_option('display.float_format', lambda x: '%.3f' % x)\n",
        "df.sum().sort_values()"
      ],
      "execution_count": 0,
      "outputs": [
        {
          "output_type": "execute_result",
          "data": {
            "text/plain": [
              "bible               640.000\n",
              "marching           1218.000\n",
              "abercrombie        1535.000\n",
              "drugs              1813.000\n",
              "hollister          2096.000\n",
              "tennis             2620.000\n",
              "drunk              2639.000\n",
              "blonde             2968.000\n",
              "kissed             3096.000\n",
              "baseball           3148.000\n",
              "cheerleading       3199.000\n",
              "dress              3329.000\n",
              "jesus              3362.000\n",
              "death              3427.000\n",
              "hot                3798.000\n",
              "swimming           4032.000\n",
              "sports             4199.000\n",
              "sexy               4236.000\n",
              "volleyball         4294.000\n",
              "clothes            4455.000\n",
              "softball           4836.000\n",
              "die                5523.000\n",
              "sex                6282.000\n",
              "soccer             6683.000\n",
              "rock               7300.000\n",
              "church             7445.000\n",
              "football           7569.000\n",
              "mall               7721.000\n",
              "basketball         8020.000\n",
              "band               8988.000\n",
              "cute               9686.000\n",
              "shopping          10590.000\n",
              "hair              12677.000\n",
              "dance             12755.000\n",
              "god               13959.000\n",
              "music             22135.000\n",
              "age              448301.259\n",
              "friends          905384.000\n",
              "gradyear       60225000.000\n",
              "dtype: float64"
            ]
          },
          "metadata": {
            "tags": []
          },
          "execution_count": 8
        }
      ]
    },
    {
      "cell_type": "code",
      "metadata": {
        "id": "gLJapNA0EGFX",
        "colab_type": "code",
        "outputId": "020fa0da-9c2b-4b1b-a9fd-c9fa3d4facca",
        "colab": {
          "base_uri": "https://localhost:8080/",
          "height": 714
        }
      },
      "source": [
        "df.isnull().sum()"
      ],
      "execution_count": 0,
      "outputs": [
        {
          "output_type": "execute_result",
          "data": {
            "text/plain": [
              "gradyear           0\n",
              "gender          2724\n",
              "age             5086\n",
              "friends            0\n",
              "basketball         0\n",
              "football           0\n",
              "soccer             0\n",
              "softball           0\n",
              "volleyball         0\n",
              "swimming           0\n",
              "cheerleading       0\n",
              "baseball           0\n",
              "tennis             0\n",
              "sports             0\n",
              "cute               0\n",
              "sex                0\n",
              "sexy               0\n",
              "hot                0\n",
              "kissed             0\n",
              "dance              0\n",
              "band               0\n",
              "marching           0\n",
              "music              0\n",
              "rock               0\n",
              "god                0\n",
              "church             0\n",
              "jesus              0\n",
              "bible              0\n",
              "hair               0\n",
              "dress              0\n",
              "blonde             0\n",
              "mall               0\n",
              "shopping           0\n",
              "clothes            0\n",
              "hollister          0\n",
              "abercrombie        0\n",
              "die                0\n",
              "death              0\n",
              "drunk              0\n",
              "drugs              0\n",
              "dtype: int64"
            ]
          },
          "metadata": {
            "tags": []
          },
          "execution_count": 9
        }
      ]
    },
    {
      "cell_type": "code",
      "metadata": {
        "id": "cv6smHKHDvRl",
        "colab_type": "code",
        "outputId": "35a65f33-6fb3-47f3-e4cd-7fbabc8146e1",
        "colab": {
          "base_uri": "https://localhost:8080/",
          "height": 68
        }
      },
      "source": [
        "df.gender.value_counts()"
      ],
      "execution_count": 0,
      "outputs": [
        {
          "output_type": "execute_result",
          "data": {
            "text/plain": [
              "F    22054\n",
              "M     5222\n",
              "Name: gender, dtype: int64"
            ]
          },
          "metadata": {
            "tags": []
          },
          "execution_count": 10
        }
      ]
    },
    {
      "cell_type": "markdown",
      "metadata": {
        "id": "6UxW5GNcD7uP",
        "colab_type": "text"
      },
      "source": [
        "<p> There is a clear imbalance in the male to female ratio in our dataset. </p>"
      ]
    },
    {
      "cell_type": "code",
      "metadata": {
        "id": "dNLlwhCtJyYI",
        "colab_type": "code",
        "outputId": "dd14ffd3-ecc3-4c15-d21a-b11fb192e819",
        "colab": {
          "base_uri": "https://localhost:8080/",
          "height": 296
        }
      },
      "source": [
        "sb.boxplot(df.age)"
      ],
      "execution_count": 0,
      "outputs": [
        {
          "output_type": "execute_result",
          "data": {
            "text/plain": [
              "<matplotlib.axes._subplots.AxesSubplot at 0x7f0740374518>"
            ]
          },
          "metadata": {
            "tags": []
          },
          "execution_count": 11
        },
        {
          "output_type": "display_data",
          "data": {
            "image/png": "[encoded data removed]",
            "text/plain": [
              "<Figure size 432x288 with 1 Axes>"
            ]
          },
          "metadata": {
            "tags": [],
            "needs_background": "light"
          }
        }
      ]
    },
    {
      "cell_type": "markdown",
      "metadata": {
        "id": "WnBRG1RrMVlX",
        "colab_type": "text"
      },
      "source": [
        "<p> There are many outliers in age. Judging by the data, some recently graduated high school students were included, but no one older than 22 should be in this data. It is also unlikely any entry should be below 13."
      ]
    },
    {
      "cell_type": "code",
      "metadata": {
        "id": "rdqFBr5SJeUy",
        "colab_type": "code",
        "outputId": "8e83c06a-0daf-4313-a646-1a40dee79bbb",
        "colab": {
          "base_uri": "https://localhost:8080/",
          "height": 119
        }
      },
      "source": [
        "df.groupby('gradyear')['age'].mean()"
      ],
      "execution_count": 0,
      "outputs": [
        {
          "output_type": "execute_result",
          "data": {
            "text/plain": [
              "gradyear\n",
              "2006   19.137\n",
              "2007   18.391\n",
              "2008   17.524\n",
              "2009   16.876\n",
              "Name: age, dtype: float64"
            ]
          },
          "metadata": {
            "tags": []
          },
          "execution_count": 12
        }
      ]
    },
    {
      "cell_type": "markdown",
      "metadata": {
        "id": "naIRV25401Fy",
        "colab_type": "text"
      },
      "source": [
        "<h2> Preparing the Data </h2>"
      ]
    },
    {
      "cell_type": "code",
      "metadata": {
        "id": "z5BhI5u7kBHI",
        "colab_type": "code",
        "colab": {}
      },
      "source": [
        "q1 = df.age.quantile(0.25)\n",
        "q3 = df.age.quantile(0.75)\n",
        "iqr = q3-q1\n",
        "df.age = np.where((df.age > (q3 + 1.5*iqr)), np.NaN, df.age)\n",
        "df.age = np.where((df.age < (q1 - 1.5*iqr)), np.NaN, df.age)"
      ],
      "execution_count": 0,
      "outputs": []
    },
    {
      "cell_type": "markdown",
      "metadata": {
        "id": "rJWGPC7EXHaA",
        "colab_type": "text"
      },
      "source": [
        "<p> I remove the ages of outliers. I want to retain their SNS data but I don't want the mean age skewed by their entries </p>"
      ]
    },
    {
      "cell_type": "code",
      "metadata": {
        "id": "5OJ1o7PiJh2p",
        "colab_type": "code",
        "colab": {}
      },
      "source": [
        "df.age = df.groupby('gradyear').transform(lambda x: x.fillna(x.mean()))"
      ],
      "execution_count": 0,
      "outputs": []
    },
    {
      "cell_type": "code",
      "metadata": {
        "id": "iUmW452_-MwZ",
        "colab_type": "code",
        "outputId": "a139c501-44ac-49a1-eb0a-ed0761eed96f",
        "colab": {
          "base_uri": "https://localhost:8080/",
          "height": 119
        }
      },
      "source": [
        "df.groupby('gradyear')['age'].mean()"
      ],
      "execution_count": 0,
      "outputs": [
        {
          "output_type": "execute_result",
          "data": {
            "text/plain": [
              "gradyear\n",
              "2006   18.668\n",
              "2007   17.711\n",
              "2008   16.781\n",
              "2009   15.826\n",
              "Name: age, dtype: float64"
            ]
          },
          "metadata": {
            "tags": []
          },
          "execution_count": 15
        }
      ]
    },
    {
      "cell_type": "markdown",
      "metadata": {
        "id": "ZeCaW030-Tkg",
        "colab_type": "text"
      },
      "source": [
        "<p> Here I can see that the mean for each gradyear has been reduced by approximately 1. This adjustment is expected from removal of outliers. </p>"
      ]
    },
    {
      "cell_type": "code",
      "metadata": {
        "id": "5CvgV0QHfWPh",
        "colab_type": "code",
        "outputId": "33d1827f-96fe-423e-c671-effa5aebc607",
        "colab": {
          "base_uri": "https://localhost:8080/",
          "height": 170
        }
      },
      "source": [
        "df.age.describe()"
      ],
      "execution_count": 0,
      "outputs": [
        {
          "output_type": "execute_result",
          "data": {
            "text/plain": [
              "count   30000.000\n",
              "mean       17.247\n",
              "std         1.151\n",
              "min        13.396\n",
              "25%        16.285\n",
              "50%        17.243\n",
              "75%        18.218\n",
              "max        21.158\n",
              "Name: age, dtype: float64"
            ]
          },
          "metadata": {
            "tags": []
          },
          "execution_count": 16
        }
      ]
    },
    {
      "cell_type": "code",
      "metadata": {
        "id": "VHlixMpiU9pY",
        "colab_type": "code",
        "outputId": "528b3601-19bd-47fe-b815-c090fa6e66d4",
        "colab": {
          "base_uri": "https://localhost:8080/",
          "height": 296
        }
      },
      "source": [
        "sb.boxplot(df.age)"
      ],
      "execution_count": 0,
      "outputs": [
        {
          "output_type": "execute_result",
          "data": {
            "text/plain": [
              "<matplotlib.axes._subplots.AxesSubplot at 0x7f07402af240>"
            ]
          },
          "metadata": {
            "tags": []
          },
          "execution_count": 17
        },
        {
          "output_type": "display_data",
          "data": {
            "image/png": "[encoded data removed]",
            "text/plain": [
              "<Figure size 432x288 with 1 Axes>"
            ]
          },
          "metadata": {
            "tags": [],
            "needs_background": "light"
          }
        }
      ]
    },
    {
      "cell_type": "code",
      "metadata": {
        "id": "Lyop9bKPl40A",
        "colab_type": "code",
        "colab": {}
      },
      "source": [
        "genders = pd.get_dummies(df.gender)\n",
        "df = pd.concat([df, genders], axis=1)\n",
        "df = df.drop(['gender'], axis=1)"
      ],
      "execution_count": 0,
      "outputs": []
    },
    {
      "cell_type": "code",
      "metadata": {
        "id": "EZSUqG3dJuhN",
        "colab_type": "code",
        "outputId": "fb9392bf-aaad-4cf7-a667-57d96cdcc86c",
        "colab": {
          "base_uri": "https://localhost:8080/",
          "height": 731
        }
      },
      "source": [
        "df.isnull().sum()"
      ],
      "execution_count": 0,
      "outputs": [
        {
          "output_type": "execute_result",
          "data": {
            "text/plain": [
              "gradyear        0\n",
              "age             0\n",
              "friends         0\n",
              "basketball      0\n",
              "football        0\n",
              "soccer          0\n",
              "softball        0\n",
              "volleyball      0\n",
              "swimming        0\n",
              "cheerleading    0\n",
              "baseball        0\n",
              "tennis          0\n",
              "sports          0\n",
              "cute            0\n",
              "sex             0\n",
              "sexy            0\n",
              "hot             0\n",
              "kissed          0\n",
              "dance           0\n",
              "band            0\n",
              "marching        0\n",
              "music           0\n",
              "rock            0\n",
              "god             0\n",
              "church          0\n",
              "jesus           0\n",
              "bible           0\n",
              "hair            0\n",
              "dress           0\n",
              "blonde          0\n",
              "mall            0\n",
              "shopping        0\n",
              "clothes         0\n",
              "hollister       0\n",
              "abercrombie     0\n",
              "die             0\n",
              "death           0\n",
              "drunk           0\n",
              "drugs           0\n",
              "F               0\n",
              "M               0\n",
              "dtype: int64"
            ]
          },
          "metadata": {
            "tags": []
          },
          "execution_count": 19
        }
      ]
    },
    {
      "cell_type": "markdown",
      "metadata": {
        "id": "tKFZReWZoMT1",
        "colab_type": "text"
      },
      "source": [
        "<p> There are no longer any null values. </p>"
      ]
    },
    {
      "cell_type": "markdown",
      "metadata": {
        "id": "h_Qo00Rlr-mu",
        "colab_type": "text"
      },
      "source": [
        "<p> There is likely high multicolinearity between gradyear and age. It may be beneficial to remove one of these columns to avoid noise in the model. </p>"
      ]
    },
    {
      "cell_type": "code",
      "metadata": {
        "colab_type": "code",
        "id": "LqTIYp7IHkKy",
        "outputId": "fceb1ec4-efcb-40fd-df75-6798ac9f953a",
        "colab": {
          "base_uri": "https://localhost:8080/",
          "height": 51
        }
      },
      "source": [
        "covariance = np.cov(df.gradyear, df.age)\n",
        "print(covariance)"
      ],
      "execution_count": 0,
      "outputs": [
        {
          "output_type": "stream",
          "text": [
            "[[ 1.25004167 -1.18216544]\n",
            " [-1.18216544  1.32459148]]\n"
          ],
          "name": "stdout"
        }
      ]
    },
    {
      "cell_type": "markdown",
      "metadata": {
        "id": "5aN-PS7dJOq2",
        "colab_type": "text"
      },
      "source": [
        "<p> It appears there is a negative covariance on age to gradyear (column 2, row 1) and on gradyear to age (column 1, row 2). This makes sense as those who graduate sooner are older.</p>"
      ]
    },
    {
      "cell_type": "code",
      "metadata": {
        "colab_type": "code",
        "id": "7OqCMGa7HlbE",
        "outputId": "4ad9eb36-3b64-4020-bc57-1958c8fab88f",
        "colab": {
          "base_uri": "https://localhost:8080/",
          "height": 34
        }
      },
      "source": [
        "correlation = stats.pearsonr(df.gradyear, df.age)[0]\n",
        "print(f'Pearsons correlation: {correlation}')"
      ],
      "execution_count": 0,
      "outputs": [
        {
          "output_type": "stream",
          "text": [
            "Pearsons correlation: -0.9187027930011035\n"
          ],
          "name": "stdout"
        }
      ]
    },
    {
      "cell_type": "markdown",
      "metadata": {
        "id": "uyG_XwIcJfPk",
        "colab_type": "text"
      },
      "source": [
        "<p> With a Pearson Correlation I can see more clearly a strong negative relationship. It is unclear from this correlation score alone whether they are correlated enough to remove one column from the data. </p>"
      ]
    },
    {
      "cell_type": "code",
      "metadata": {
        "id": "mvqJw4q5Vn4z",
        "colab_type": "code",
        "outputId": "356d0443-93b7-40d7-bbe5-fbdc86dfbe57",
        "colab": {
          "base_uri": "https://localhost:8080/",
          "height": 136
        }
      },
      "source": [
        "variables = df.columns[3:39] # I standardize the SNS data but set aside age, gender, and friends.\n",
        "features = df[variables].copy()\n",
        "print(variables)"
      ],
      "execution_count": 7,
      "outputs": [
        {
          "output_type": "stream",
          "text": [
            "Index(['basketball', 'football', 'soccer', 'softball', 'volleyball',\n",
            "       'swimming', 'cheerleading', 'baseball', 'tennis', 'sports', 'cute',\n",
            "       'sex', 'sexy', 'hot', 'kissed', 'dance', 'band', 'marching', 'music',\n",
            "       'rock', 'god', 'church', 'jesus', 'bible', 'hair', 'dress', 'blonde',\n",
            "       'mall', 'shopping', 'clothes', 'hollister', 'abercrombie', 'die',\n",
            "       'death', 'drunk', 'drugs'],\n",
            "      dtype='object')\n"
          ],
          "name": "stdout"
        }
      ]
    },
    {
      "cell_type": "code",
      "metadata": {
        "id": "XA9bFsiNYrpS",
        "colab_type": "code",
        "colab": {}
      },
      "source": [
        "scaler = StandardScaler().fit(features.values)"
      ],
      "execution_count": 0,
      "outputs": []
    },
    {
      "cell_type": "code",
      "metadata": {
        "id": "fI9qtndiY1H_",
        "colab_type": "code",
        "colab": {}
      },
      "source": [
        "scaled_features = scaler.transform(features.values)"
      ],
      "execution_count": 0,
      "outputs": []
    },
    {
      "cell_type": "code",
      "metadata": {
        "id": "nIH0s157ZGto",
        "colab_type": "code",
        "outputId": "a33974d5-058e-4196-a8ad-c84d7cf03d6d",
        "colab": {
          "base_uri": "https://localhost:8080/",
          "height": 224
        }
      },
      "source": [
        "scaled_df = df.copy()\n",
        "scaled_df[variables] = scaled_features\n",
        "scaled_df.head()"
      ],
      "execution_count": 10,
      "outputs": [
        {
          "output_type": "execute_result",
          "data": {
            "text/html": [
              "<div>\n",
              "<style scoped>\n",
              "    .dataframe tbody tr th:only-of-type {\n",
              "        vertical-align: middle;\n",
              "    }\n",
              "\n",
              "    .dataframe tbody tr th {\n",
              "        vertical-align: top;\n",
              "    }\n",
              "\n",
              "    .dataframe thead th {\n",
              "        text-align: right;\n",
              "    }\n",
              "</style>\n",
              "<table border=\"1\" class=\"dataframe\">\n",
              "  <thead>\n",
              "    <tr style=\"text-align: right;\">\n",
              "      <th></th>\n",
              "      <th>gradyear</th>\n",
              "      <th>age</th>\n",
              "      <th>friends</th>\n",
              "      <th>basketball</th>\n",
              "      <th>football</th>\n",
              "      <th>soccer</th>\n",
              "      <th>softball</th>\n",
              "      <th>volleyball</th>\n",
              "      <th>swimming</th>\n",
              "      <th>cheerleading</th>\n",
              "      <th>baseball</th>\n",
              "      <th>tennis</th>\n",
              "      <th>sports</th>\n",
              "      <th>cute</th>\n",
              "      <th>sex</th>\n",
              "      <th>sexy</th>\n",
              "      <th>hot</th>\n",
              "      <th>kissed</th>\n",
              "      <th>dance</th>\n",
              "      <th>band</th>\n",
              "      <th>marching</th>\n",
              "      <th>music</th>\n",
              "      <th>rock</th>\n",
              "      <th>god</th>\n",
              "      <th>church</th>\n",
              "      <th>jesus</th>\n",
              "      <th>bible</th>\n",
              "      <th>hair</th>\n",
              "      <th>dress</th>\n",
              "      <th>blonde</th>\n",
              "      <th>mall</th>\n",
              "      <th>shopping</th>\n",
              "      <th>clothes</th>\n",
              "      <th>hollister</th>\n",
              "      <th>abercrombie</th>\n",
              "      <th>die</th>\n",
              "      <th>death</th>\n",
              "      <th>drunk</th>\n",
              "      <th>drugs</th>\n",
              "      <th>F</th>\n",
              "      <th>M</th>\n",
              "    </tr>\n",
              "  </thead>\n",
              "  <tbody>\n",
              "    <tr>\n",
              "      <th>0</th>\n",
              "      <td>2006</td>\n",
              "      <td>18.982</td>\n",
              "      <td>7</td>\n",
              "      <td>-0.332217</td>\n",
              "      <td>-0.357697</td>\n",
              "      <td>-0.242874</td>\n",
              "      <td>-0.217928</td>\n",
              "      <td>-0.22367</td>\n",
              "      <td>-0.259971</td>\n",
              "      <td>-0.207327</td>\n",
              "      <td>-0.201131</td>\n",
              "      <td>-0.168939</td>\n",
              "      <td>-0.297123</td>\n",
              "      <td>-0.402362</td>\n",
              "      <td>-0.186384</td>\n",
              "      <td>-0.267323</td>\n",
              "      <td>-0.264225</td>\n",
              "      <td>-0.202619</td>\n",
              "      <td>0.494457</td>\n",
              "      <td>-0.267795</td>\n",
              "      <td>-0.141421</td>\n",
              "      <td>-0.589161</td>\n",
              "      <td>-0.337793</td>\n",
              "      <td>-0.346411</td>\n",
              "      <td>-0.297557</td>\n",
              "      <td>-0.192654</td>\n",
              "      <td>-0.104247</td>\n",
              "      <td>-0.384873</td>\n",
              "      <td>-0.246906</td>\n",
              "      <td>-0.050937</td>\n",
              "      <td>-0.369915</td>\n",
              "      <td>-0.487314</td>\n",
              "      <td>-0.314198</td>\n",
              "      <td>-0.201476</td>\n",
              "      <td>-0.183032</td>\n",
              "      <td>-0.294793</td>\n",
              "      <td>-0.261530</td>\n",
              "      <td>-0.220403</td>\n",
              "      <td>-0.174908</td>\n",
              "      <td>0</td>\n",
              "      <td>1</td>\n",
              "    </tr>\n",
              "    <tr>\n",
              "      <th>1</th>\n",
              "      <td>2006</td>\n",
              "      <td>18.801</td>\n",
              "      <td>0</td>\n",
              "      <td>-0.332217</td>\n",
              "      <td>1.060049</td>\n",
              "      <td>-0.242874</td>\n",
              "      <td>-0.217928</td>\n",
              "      <td>-0.22367</td>\n",
              "      <td>-0.259971</td>\n",
              "      <td>-0.207327</td>\n",
              "      <td>-0.201131</td>\n",
              "      <td>-0.168939</td>\n",
              "      <td>-0.297123</td>\n",
              "      <td>0.843856</td>\n",
              "      <td>-0.186384</td>\n",
              "      <td>-0.267323</td>\n",
              "      <td>-0.264225</td>\n",
              "      <td>-0.202619</td>\n",
              "      <td>-0.365718</td>\n",
              "      <td>-0.267795</td>\n",
              "      <td>-0.141421</td>\n",
              "      <td>1.007842</td>\n",
              "      <td>2.438587</td>\n",
              "      <td>0.398078</td>\n",
              "      <td>-0.297557</td>\n",
              "      <td>-0.192654</td>\n",
              "      <td>-0.104247</td>\n",
              "      <td>5.079910</td>\n",
              "      <td>8.653277</td>\n",
              "      <td>-0.050937</td>\n",
              "      <td>1.067392</td>\n",
              "      <td>-0.487314</td>\n",
              "      <td>-0.314198</td>\n",
              "      <td>-0.201476</td>\n",
              "      <td>-0.183032</td>\n",
              "      <td>-0.294793</td>\n",
              "      <td>-0.261530</td>\n",
              "      <td>-0.220403</td>\n",
              "      <td>-0.174908</td>\n",
              "      <td>1</td>\n",
              "      <td>0</td>\n",
              "    </tr>\n",
              "    <tr>\n",
              "      <th>2</th>\n",
              "      <td>2006</td>\n",
              "      <td>18.335</td>\n",
              "      <td>69</td>\n",
              "      <td>-0.332217</td>\n",
              "      <td>1.060049</td>\n",
              "      <td>-0.242874</td>\n",
              "      <td>-0.217928</td>\n",
              "      <td>-0.22367</td>\n",
              "      <td>-0.259971</td>\n",
              "      <td>-0.207327</td>\n",
              "      <td>-0.201131</td>\n",
              "      <td>-0.168939</td>\n",
              "      <td>-0.297123</td>\n",
              "      <td>-0.402362</td>\n",
              "      <td>-0.186384</td>\n",
              "      <td>-0.267323</td>\n",
              "      <td>-0.264225</td>\n",
              "      <td>-0.202619</td>\n",
              "      <td>-0.365718</td>\n",
              "      <td>1.519887</td>\n",
              "      <td>-0.141421</td>\n",
              "      <td>0.209341</td>\n",
              "      <td>-0.337793</td>\n",
              "      <td>-0.346411</td>\n",
              "      <td>-0.297557</td>\n",
              "      <td>-0.192654</td>\n",
              "      <td>-0.104247</td>\n",
              "      <td>-0.384873</td>\n",
              "      <td>-0.246906</td>\n",
              "      <td>-0.050937</td>\n",
              "      <td>-0.369915</td>\n",
              "      <td>-0.487314</td>\n",
              "      <td>-0.314198</td>\n",
              "      <td>-0.201476</td>\n",
              "      <td>-0.183032</td>\n",
              "      <td>-0.294793</td>\n",
              "      <td>2.027908</td>\n",
              "      <td>-0.220403</td>\n",
              "      <td>-0.174908</td>\n",
              "      <td>0</td>\n",
              "      <td>1</td>\n",
              "    </tr>\n",
              "    <tr>\n",
              "      <th>3</th>\n",
              "      <td>2006</td>\n",
              "      <td>18.875</td>\n",
              "      <td>0</td>\n",
              "      <td>-0.332217</td>\n",
              "      <td>-0.357697</td>\n",
              "      <td>-0.242874</td>\n",
              "      <td>-0.217928</td>\n",
              "      <td>-0.22367</td>\n",
              "      <td>-0.259971</td>\n",
              "      <td>-0.207327</td>\n",
              "      <td>-0.201131</td>\n",
              "      <td>-0.168939</td>\n",
              "      <td>-0.297123</td>\n",
              "      <td>0.843856</td>\n",
              "      <td>-0.186384</td>\n",
              "      <td>-0.267323</td>\n",
              "      <td>-0.264225</td>\n",
              "      <td>-0.202619</td>\n",
              "      <td>-0.365718</td>\n",
              "      <td>-0.267795</td>\n",
              "      <td>-0.141421</td>\n",
              "      <td>-0.589161</td>\n",
              "      <td>1.050397</td>\n",
              "      <td>-0.346411</td>\n",
              "      <td>-0.297557</td>\n",
              "      <td>-0.192654</td>\n",
              "      <td>-0.104247</td>\n",
              "      <td>-0.384873</td>\n",
              "      <td>-0.246906</td>\n",
              "      <td>-0.050937</td>\n",
              "      <td>-0.369915</td>\n",
              "      <td>-0.487314</td>\n",
              "      <td>-0.314198</td>\n",
              "      <td>-0.201476</td>\n",
              "      <td>-0.183032</td>\n",
              "      <td>-0.294793</td>\n",
              "      <td>-0.261530</td>\n",
              "      <td>-0.220403</td>\n",
              "      <td>-0.174908</td>\n",
              "      <td>1</td>\n",
              "      <td>0</td>\n",
              "    </tr>\n",
              "    <tr>\n",
              "      <th>4</th>\n",
              "      <td>2006</td>\n",
              "      <td>18.995</td>\n",
              "      <td>10</td>\n",
              "      <td>-0.332217</td>\n",
              "      <td>-0.357697</td>\n",
              "      <td>-0.242874</td>\n",
              "      <td>-0.217928</td>\n",
              "      <td>-0.22367</td>\n",
              "      <td>-0.259971</td>\n",
              "      <td>-0.207327</td>\n",
              "      <td>-0.201131</td>\n",
              "      <td>-0.168939</td>\n",
              "      <td>-0.297123</td>\n",
              "      <td>-0.402362</td>\n",
              "      <td>0.703703</td>\n",
              "      <td>-0.267323</td>\n",
              "      <td>-0.264225</td>\n",
              "      <td>9.614211</td>\n",
              "      <td>0.494457</td>\n",
              "      <td>0.626046</td>\n",
              "      <td>-0.141421</td>\n",
              "      <td>1.806344</td>\n",
              "      <td>-0.337793</td>\n",
              "      <td>0.398078</td>\n",
              "      <td>-0.297557</td>\n",
              "      <td>-0.192654</td>\n",
              "      <td>-0.104247</td>\n",
              "      <td>0.525925</td>\n",
              "      <td>-0.246906</td>\n",
              "      <td>-0.050937</td>\n",
              "      <td>-0.369915</td>\n",
              "      <td>2.273673</td>\n",
              "      <td>-0.314198</td>\n",
              "      <td>-0.201476</td>\n",
              "      <td>-0.183032</td>\n",
              "      <td>-0.294793</td>\n",
              "      <td>-0.261530</td>\n",
              "      <td>2.285122</td>\n",
              "      <td>2.719316</td>\n",
              "      <td>0</td>\n",
              "      <td>0</td>\n",
              "    </tr>\n",
              "  </tbody>\n",
              "</table>\n",
              "</div>"
            ],
            "text/plain": [
              "   gradyear     age  friends  basketball  ...     drunk     drugs  F  M\n",
              "0      2006  18.982        7   -0.332217  ... -0.220403 -0.174908  0  1\n",
              "1      2006  18.801        0   -0.332217  ... -0.220403 -0.174908  1  0\n",
              "2      2006  18.335       69   -0.332217  ... -0.220403 -0.174908  0  1\n",
              "3      2006  18.875        0   -0.332217  ... -0.220403 -0.174908  1  0\n",
              "4      2006  18.995       10   -0.332217  ...  2.285122  2.719316  0  0\n",
              "\n",
              "[5 rows x 41 columns]"
            ]
          },
          "metadata": {
            "tags": []
          },
          "execution_count": 10
        }
      ]
    },
    {
      "cell_type": "markdown",
      "metadata": {
        "id": "fSYzVtlSpYrV",
        "colab_type": "text"
      },
      "source": [
        "<p> So as to control for the effects of over-represented columns, I apply the common practice of standardizing the scale of the numerical data. This z-score standardization gives the model better comparative values between students. A value that is relatively high in the same column will have an appropriate effect even if the original numbers of that column were much lower than other columns. \n",
        "\n",
        "For example, drugs originally had only 1,813 entries whereas rock had 7,300 entries. Rock would dominate the model in comparison, but with standardized scores any entry of drugs could be found relatively important by the model.</p>"
      ]
    },
    {
      "cell_type": "code",
      "metadata": {
        "id": "c71uiX9o_hvv",
        "colab_type": "code",
        "colab": {}
      },
      "source": [
        "scaled_df.drop(['gradyear'], axis=1, inplace=True)"
      ],
      "execution_count": 0,
      "outputs": []
    },
    {
      "cell_type": "markdown",
      "metadata": {
        "id": "c2uME4rOPH9u",
        "colab_type": "text"
      },
      "source": [
        "<p> To avoid multicolinearity, I should drop either gradyear or age. After removing outliers from age, it appears that it has standard, normal values which vary similarly to gradyear. I choose to keep it and drop gradyear so as to preserve potentially useful variance in student ages. </p>"
      ]
    },
    {
      "cell_type": "markdown",
      "metadata": {
        "id": "6gFJAGDK1Wc_",
        "colab_type": "text"
      },
      "source": [
        "<h2> Model One: Iterating and Plotting for the Elbow Method </h2>"
      ]
    },
    {
      "cell_type": "code",
      "metadata": {
        "id": "nQCV4SNmb4YE",
        "colab_type": "code",
        "outputId": "4bb87255-785c-425d-9419-0d71ffe6a122",
        "colab": {
          "base_uri": "https://localhost:8080/",
          "height": 295
        }
      },
      "source": [
        "sum_of_squares = []\n",
        "for i in range(1,20):\n",
        "    kmeans = KMeans(n_clusters=i, init='k-means++', max_iter=300,\n",
        "                    n_init=10, random_state=0)\n",
        "    kmeans.fit(scaled_df)\n",
        "    sum_of_squares.append(kmeans.inertia_)\n",
        "plt.plot(range(1,20), sum_of_squares)\n",
        "plt.title('Elbow Graph')\n",
        "plt.xlabel('Number of Clusters')\n",
        "plt.ylabel('Sum of Squares')\n",
        "plt.show()"
      ],
      "execution_count": 0,
      "outputs": [
        {
          "output_type": "display_data",
          "data": {
            "image/png": "[encoded data removed]",
            "text/plain": [
              "<Figure size 432x288 with 1 Axes>"
            ]
          },
          "metadata": {
            "tags": [],
            "needs_background": "light"
          }
        }
      ]
    },
    {
      "cell_type": "markdown",
      "metadata": {
        "id": "MQimgRSeowms",
        "colab_type": "text"
      },
      "source": [
        "<p> The sum of squares appears to be nearly linear after 5 clusters. This suggests 5 is an appropriate number of clusters. </p>"
      ]
    },
    {
      "cell_type": "code",
      "metadata": {
        "id": "DYsaHZOqcmCU",
        "colab_type": "code",
        "outputId": "e6a39e9e-6e01-41c6-c9c9-ff0ab655589f",
        "colab": {
          "base_uri": "https://localhost:8080/",
          "height": 68
        }
      },
      "source": [
        "kmeans = KMeans(n_clusters=5)\n",
        "kmeans.fit(scaled_df)"
      ],
      "execution_count": 35,
      "outputs": [
        {
          "output_type": "execute_result",
          "data": {
            "text/plain": [
              "KMeans(algorithm='auto', copy_x=True, init='k-means++', max_iter=300,\n",
              "       n_clusters=5, n_init=10, n_jobs=None, precompute_distances='auto',\n",
              "       random_state=None, tol=0.0001, verbose=0)"
            ]
          },
          "metadata": {
            "tags": []
          },
          "execution_count": 35
        }
      ]
    },
    {
      "cell_type": "code",
      "metadata": {
        "id": "BA7Q5RnIdJVd",
        "colab_type": "code",
        "outputId": "f0afb563-d040-45ca-9387-62494731f0e1",
        "colab": {
          "base_uri": "https://localhost:8080/",
          "height": 224
        }
      },
      "source": [
        "df['cluster'] = kmeans.labels_\n",
        "df.head()"
      ],
      "execution_count": 36,
      "outputs": [
        {
          "output_type": "execute_result",
          "data": {
            "text/html": [
              "<div>\n",
              "<style scoped>\n",
              "    .dataframe tbody tr th:only-of-type {\n",
              "        vertical-align: middle;\n",
              "    }\n",
              "\n",
              "    .dataframe tbody tr th {\n",
              "        vertical-align: top;\n",
              "    }\n",
              "\n",
              "    .dataframe thead th {\n",
              "        text-align: right;\n",
              "    }\n",
              "</style>\n",
              "<table border=\"1\" class=\"dataframe\">\n",
              "  <thead>\n",
              "    <tr style=\"text-align: right;\">\n",
              "      <th></th>\n",
              "      <th>gradyear</th>\n",
              "      <th>age</th>\n",
              "      <th>friends</th>\n",
              "      <th>basketball</th>\n",
              "      <th>football</th>\n",
              "      <th>soccer</th>\n",
              "      <th>softball</th>\n",
              "      <th>volleyball</th>\n",
              "      <th>swimming</th>\n",
              "      <th>cheerleading</th>\n",
              "      <th>baseball</th>\n",
              "      <th>tennis</th>\n",
              "      <th>sports</th>\n",
              "      <th>cute</th>\n",
              "      <th>sex</th>\n",
              "      <th>sexy</th>\n",
              "      <th>hot</th>\n",
              "      <th>kissed</th>\n",
              "      <th>dance</th>\n",
              "      <th>band</th>\n",
              "      <th>marching</th>\n",
              "      <th>music</th>\n",
              "      <th>rock</th>\n",
              "      <th>god</th>\n",
              "      <th>church</th>\n",
              "      <th>jesus</th>\n",
              "      <th>bible</th>\n",
              "      <th>hair</th>\n",
              "      <th>dress</th>\n",
              "      <th>blonde</th>\n",
              "      <th>mall</th>\n",
              "      <th>shopping</th>\n",
              "      <th>clothes</th>\n",
              "      <th>hollister</th>\n",
              "      <th>abercrombie</th>\n",
              "      <th>die</th>\n",
              "      <th>death</th>\n",
              "      <th>drunk</th>\n",
              "      <th>drugs</th>\n",
              "      <th>F</th>\n",
              "      <th>M</th>\n",
              "      <th>cluster</th>\n",
              "    </tr>\n",
              "  </thead>\n",
              "  <tbody>\n",
              "    <tr>\n",
              "      <th>0</th>\n",
              "      <td>2006</td>\n",
              "      <td>18.982</td>\n",
              "      <td>7</td>\n",
              "      <td>0</td>\n",
              "      <td>0</td>\n",
              "      <td>0</td>\n",
              "      <td>0</td>\n",
              "      <td>0</td>\n",
              "      <td>0</td>\n",
              "      <td>0</td>\n",
              "      <td>0</td>\n",
              "      <td>0</td>\n",
              "      <td>0</td>\n",
              "      <td>0</td>\n",
              "      <td>0</td>\n",
              "      <td>0</td>\n",
              "      <td>0</td>\n",
              "      <td>0</td>\n",
              "      <td>1</td>\n",
              "      <td>0</td>\n",
              "      <td>0</td>\n",
              "      <td>0</td>\n",
              "      <td>0</td>\n",
              "      <td>0</td>\n",
              "      <td>0</td>\n",
              "      <td>0</td>\n",
              "      <td>0</td>\n",
              "      <td>0</td>\n",
              "      <td>0</td>\n",
              "      <td>0</td>\n",
              "      <td>0</td>\n",
              "      <td>0</td>\n",
              "      <td>0</td>\n",
              "      <td>0</td>\n",
              "      <td>0</td>\n",
              "      <td>0</td>\n",
              "      <td>0</td>\n",
              "      <td>0</td>\n",
              "      <td>0</td>\n",
              "      <td>0</td>\n",
              "      <td>1</td>\n",
              "      <td>3</td>\n",
              "    </tr>\n",
              "    <tr>\n",
              "      <th>1</th>\n",
              "      <td>2006</td>\n",
              "      <td>18.801</td>\n",
              "      <td>0</td>\n",
              "      <td>0</td>\n",
              "      <td>1</td>\n",
              "      <td>0</td>\n",
              "      <td>0</td>\n",
              "      <td>0</td>\n",
              "      <td>0</td>\n",
              "      <td>0</td>\n",
              "      <td>0</td>\n",
              "      <td>0</td>\n",
              "      <td>0</td>\n",
              "      <td>1</td>\n",
              "      <td>0</td>\n",
              "      <td>0</td>\n",
              "      <td>0</td>\n",
              "      <td>0</td>\n",
              "      <td>0</td>\n",
              "      <td>0</td>\n",
              "      <td>0</td>\n",
              "      <td>2</td>\n",
              "      <td>2</td>\n",
              "      <td>1</td>\n",
              "      <td>0</td>\n",
              "      <td>0</td>\n",
              "      <td>0</td>\n",
              "      <td>6</td>\n",
              "      <td>4</td>\n",
              "      <td>0</td>\n",
              "      <td>1</td>\n",
              "      <td>0</td>\n",
              "      <td>0</td>\n",
              "      <td>0</td>\n",
              "      <td>0</td>\n",
              "      <td>0</td>\n",
              "      <td>0</td>\n",
              "      <td>0</td>\n",
              "      <td>0</td>\n",
              "      <td>1</td>\n",
              "      <td>0</td>\n",
              "      <td>3</td>\n",
              "    </tr>\n",
              "    <tr>\n",
              "      <th>2</th>\n",
              "      <td>2006</td>\n",
              "      <td>18.335</td>\n",
              "      <td>69</td>\n",
              "      <td>0</td>\n",
              "      <td>1</td>\n",
              "      <td>0</td>\n",
              "      <td>0</td>\n",
              "      <td>0</td>\n",
              "      <td>0</td>\n",
              "      <td>0</td>\n",
              "      <td>0</td>\n",
              "      <td>0</td>\n",
              "      <td>0</td>\n",
              "      <td>0</td>\n",
              "      <td>0</td>\n",
              "      <td>0</td>\n",
              "      <td>0</td>\n",
              "      <td>0</td>\n",
              "      <td>0</td>\n",
              "      <td>2</td>\n",
              "      <td>0</td>\n",
              "      <td>1</td>\n",
              "      <td>0</td>\n",
              "      <td>0</td>\n",
              "      <td>0</td>\n",
              "      <td>0</td>\n",
              "      <td>0</td>\n",
              "      <td>0</td>\n",
              "      <td>0</td>\n",
              "      <td>0</td>\n",
              "      <td>0</td>\n",
              "      <td>0</td>\n",
              "      <td>0</td>\n",
              "      <td>0</td>\n",
              "      <td>0</td>\n",
              "      <td>0</td>\n",
              "      <td>1</td>\n",
              "      <td>0</td>\n",
              "      <td>0</td>\n",
              "      <td>0</td>\n",
              "      <td>1</td>\n",
              "      <td>0</td>\n",
              "    </tr>\n",
              "    <tr>\n",
              "      <th>3</th>\n",
              "      <td>2006</td>\n",
              "      <td>18.875</td>\n",
              "      <td>0</td>\n",
              "      <td>0</td>\n",
              "      <td>0</td>\n",
              "      <td>0</td>\n",
              "      <td>0</td>\n",
              "      <td>0</td>\n",
              "      <td>0</td>\n",
              "      <td>0</td>\n",
              "      <td>0</td>\n",
              "      <td>0</td>\n",
              "      <td>0</td>\n",
              "      <td>1</td>\n",
              "      <td>0</td>\n",
              "      <td>0</td>\n",
              "      <td>0</td>\n",
              "      <td>0</td>\n",
              "      <td>0</td>\n",
              "      <td>0</td>\n",
              "      <td>0</td>\n",
              "      <td>0</td>\n",
              "      <td>1</td>\n",
              "      <td>0</td>\n",
              "      <td>0</td>\n",
              "      <td>0</td>\n",
              "      <td>0</td>\n",
              "      <td>0</td>\n",
              "      <td>0</td>\n",
              "      <td>0</td>\n",
              "      <td>0</td>\n",
              "      <td>0</td>\n",
              "      <td>0</td>\n",
              "      <td>0</td>\n",
              "      <td>0</td>\n",
              "      <td>0</td>\n",
              "      <td>0</td>\n",
              "      <td>0</td>\n",
              "      <td>0</td>\n",
              "      <td>1</td>\n",
              "      <td>0</td>\n",
              "      <td>3</td>\n",
              "    </tr>\n",
              "    <tr>\n",
              "      <th>4</th>\n",
              "      <td>2006</td>\n",
              "      <td>18.995</td>\n",
              "      <td>10</td>\n",
              "      <td>0</td>\n",
              "      <td>0</td>\n",
              "      <td>0</td>\n",
              "      <td>0</td>\n",
              "      <td>0</td>\n",
              "      <td>0</td>\n",
              "      <td>0</td>\n",
              "      <td>0</td>\n",
              "      <td>0</td>\n",
              "      <td>0</td>\n",
              "      <td>0</td>\n",
              "      <td>1</td>\n",
              "      <td>0</td>\n",
              "      <td>0</td>\n",
              "      <td>5</td>\n",
              "      <td>1</td>\n",
              "      <td>1</td>\n",
              "      <td>0</td>\n",
              "      <td>3</td>\n",
              "      <td>0</td>\n",
              "      <td>1</td>\n",
              "      <td>0</td>\n",
              "      <td>0</td>\n",
              "      <td>0</td>\n",
              "      <td>1</td>\n",
              "      <td>0</td>\n",
              "      <td>0</td>\n",
              "      <td>0</td>\n",
              "      <td>2</td>\n",
              "      <td>0</td>\n",
              "      <td>0</td>\n",
              "      <td>0</td>\n",
              "      <td>0</td>\n",
              "      <td>0</td>\n",
              "      <td>1</td>\n",
              "      <td>1</td>\n",
              "      <td>0</td>\n",
              "      <td>0</td>\n",
              "      <td>3</td>\n",
              "    </tr>\n",
              "  </tbody>\n",
              "</table>\n",
              "</div>"
            ],
            "text/plain": [
              "   gradyear     age  friends  basketball  football  ...  drunk  drugs  F  M  cluster\n",
              "0      2006  18.982        7           0         0  ...      0      0  0  1        3\n",
              "1      2006  18.801        0           0         1  ...      0      0  1  0        3\n",
              "2      2006  18.335       69           0         1  ...      0      0  0  1        0\n",
              "3      2006  18.875        0           0         0  ...      0      0  1  0        3\n",
              "4      2006  18.995       10           0         0  ...      1      1  0  0        3\n",
              "\n",
              "[5 rows x 42 columns]"
            ]
          },
          "metadata": {
            "tags": []
          },
          "execution_count": 36
        }
      ]
    },
    {
      "cell_type": "code",
      "metadata": {
        "id": "b7veIaM4df52",
        "colab_type": "code",
        "outputId": "b8f1bfcf-a9dd-44be-8f37-a88506c66f49",
        "colab": {
          "base_uri": "https://localhost:8080/",
          "height": 444
        }
      },
      "source": [
        "plt.figure(figsize=(12,7))\n",
        "axis = sb.barplot(x=np.arange(0,5,1), y=df.groupby(['cluster']).count()['age'].values)\n",
        "x = axis.set_xlabel(\"Cluster Number\")\n",
        "x = axis.set_ylabel(\"Number of Students\")"
      ],
      "execution_count": 0,
      "outputs": [
        {
          "output_type": "display_data",
          "data": {
            "image/png": "[encoded data removed]",
            "text/plain": [
              "<Figure size 864x504 with 1 Axes>"
            ]
          },
          "metadata": {
            "tags": [],
            "needs_background": "light"
          }
        }
      ]
    },
    {
      "cell_type": "code",
      "metadata": {
        "id": "Zz89AGsGeGik",
        "colab_type": "code",
        "outputId": "e91f73b2-646a-4e0d-cfe6-d34c39ae4380",
        "colab": {
          "base_uri": "https://localhost:8080/",
          "height": 34
        }
      },
      "source": [
        "cluster_size = list(df.groupby(['cluster']).count()['gradyear'].values)\n",
        "cluster_size"
      ],
      "execution_count": 0,
      "outputs": [
        {
          "output_type": "execute_result",
          "data": {
            "text/plain": [
              "[4329, 15324, 153, 8955, 1239]"
            ]
          },
          "metadata": {
            "tags": []
          },
          "execution_count": 32
        }
      ]
    },
    {
      "cell_type": "code",
      "metadata": {
        "id": "oujJ1ht_fN0-",
        "colab_type": "code",
        "outputId": "3a183122-d3ed-44b3-f829-fe614a0cc01b",
        "colab": {
          "base_uri": "https://localhost:8080/",
          "height": 255
        }
      },
      "source": [
        "means = df.groupby(['cluster']).mean()\n",
        "df.groupby(['cluster']).mean() # This line is for interactive python display."
      ],
      "execution_count": 0,
      "outputs": [
        {
          "output_type": "execute_result",
          "data": {
            "text/html": [
              "<div>\n",
              "<style scoped>\n",
              "    .dataframe tbody tr th:only-of-type {\n",
              "        vertical-align: middle;\n",
              "    }\n",
              "\n",
              "    .dataframe tbody tr th {\n",
              "        vertical-align: top;\n",
              "    }\n",
              "\n",
              "    .dataframe thead th {\n",
              "        text-align: right;\n",
              "    }\n",
              "</style>\n",
              "<table border=\"1\" class=\"dataframe\">\n",
              "  <thead>\n",
              "    <tr style=\"text-align: right;\">\n",
              "      <th></th>\n",
              "      <th>gradyear</th>\n",
              "      <th>age</th>\n",
              "      <th>friends</th>\n",
              "      <th>basketball</th>\n",
              "      <th>football</th>\n",
              "      <th>soccer</th>\n",
              "      <th>softball</th>\n",
              "      <th>volleyball</th>\n",
              "      <th>swimming</th>\n",
              "      <th>cheerleading</th>\n",
              "      <th>baseball</th>\n",
              "      <th>tennis</th>\n",
              "      <th>sports</th>\n",
              "      <th>cute</th>\n",
              "      <th>sex</th>\n",
              "      <th>sexy</th>\n",
              "      <th>hot</th>\n",
              "      <th>kissed</th>\n",
              "      <th>dance</th>\n",
              "      <th>band</th>\n",
              "      <th>marching</th>\n",
              "      <th>music</th>\n",
              "      <th>rock</th>\n",
              "      <th>god</th>\n",
              "      <th>church</th>\n",
              "      <th>jesus</th>\n",
              "      <th>bible</th>\n",
              "      <th>hair</th>\n",
              "      <th>dress</th>\n",
              "      <th>blonde</th>\n",
              "      <th>mall</th>\n",
              "      <th>shopping</th>\n",
              "      <th>clothes</th>\n",
              "      <th>hollister</th>\n",
              "      <th>abercrombie</th>\n",
              "      <th>die</th>\n",
              "      <th>death</th>\n",
              "      <th>drunk</th>\n",
              "      <th>drugs</th>\n",
              "      <th>F</th>\n",
              "      <th>M</th>\n",
              "    </tr>\n",
              "    <tr>\n",
              "      <th>cluster</th>\n",
              "      <th></th>\n",
              "      <th></th>\n",
              "      <th></th>\n",
              "      <th></th>\n",
              "      <th></th>\n",
              "      <th></th>\n",
              "      <th></th>\n",
              "      <th></th>\n",
              "      <th></th>\n",
              "      <th></th>\n",
              "      <th></th>\n",
              "      <th></th>\n",
              "      <th></th>\n",
              "      <th></th>\n",
              "      <th></th>\n",
              "      <th></th>\n",
              "      <th></th>\n",
              "      <th></th>\n",
              "      <th></th>\n",
              "      <th></th>\n",
              "      <th></th>\n",
              "      <th></th>\n",
              "      <th></th>\n",
              "      <th></th>\n",
              "      <th></th>\n",
              "      <th></th>\n",
              "      <th></th>\n",
              "      <th></th>\n",
              "      <th></th>\n",
              "      <th></th>\n",
              "      <th></th>\n",
              "      <th></th>\n",
              "      <th></th>\n",
              "      <th></th>\n",
              "      <th></th>\n",
              "      <th></th>\n",
              "      <th></th>\n",
              "      <th></th>\n",
              "      <th></th>\n",
              "      <th></th>\n",
              "      <th></th>\n",
              "    </tr>\n",
              "  </thead>\n",
              "  <tbody>\n",
              "    <tr>\n",
              "      <th>0</th>\n",
              "      <td>2007.623</td>\n",
              "      <td>17.123</td>\n",
              "      <td>70.467</td>\n",
              "      <td>0.331</td>\n",
              "      <td>0.286</td>\n",
              "      <td>0.271</td>\n",
              "      <td>0.237</td>\n",
              "      <td>0.180</td>\n",
              "      <td>0.155</td>\n",
              "      <td>0.141</td>\n",
              "      <td>0.128</td>\n",
              "      <td>0.092</td>\n",
              "      <td>0.152</td>\n",
              "      <td>0.399</td>\n",
              "      <td>0.181</td>\n",
              "      <td>0.161</td>\n",
              "      <td>0.149</td>\n",
              "      <td>0.114</td>\n",
              "      <td>0.504</td>\n",
              "      <td>0.313</td>\n",
              "      <td>0.044</td>\n",
              "      <td>0.778</td>\n",
              "      <td>0.274</td>\n",
              "      <td>0.560</td>\n",
              "      <td>0.337</td>\n",
              "      <td>0.145</td>\n",
              "      <td>0.024</td>\n",
              "      <td>0.455</td>\n",
              "      <td>0.129</td>\n",
              "      <td>0.108</td>\n",
              "      <td>0.319</td>\n",
              "      <td>0.448</td>\n",
              "      <td>0.172</td>\n",
              "      <td>0.096</td>\n",
              "      <td>0.078</td>\n",
              "      <td>0.174</td>\n",
              "      <td>0.122</td>\n",
              "      <td>0.091</td>\n",
              "      <td>0.059</td>\n",
              "      <td>0.782</td>\n",
              "      <td>0.133</td>\n",
              "    </tr>\n",
              "    <tr>\n",
              "      <th>1</th>\n",
              "      <td>2007.438</td>\n",
              "      <td>17.309</td>\n",
              "      <td>6.146</td>\n",
              "      <td>0.225</td>\n",
              "      <td>0.230</td>\n",
              "      <td>0.193</td>\n",
              "      <td>0.121</td>\n",
              "      <td>0.111</td>\n",
              "      <td>0.116</td>\n",
              "      <td>0.087</td>\n",
              "      <td>0.092</td>\n",
              "      <td>0.081</td>\n",
              "      <td>0.127</td>\n",
              "      <td>0.274</td>\n",
              "      <td>0.207</td>\n",
              "      <td>0.129</td>\n",
              "      <td>0.108</td>\n",
              "      <td>0.095</td>\n",
              "      <td>0.369</td>\n",
              "      <td>0.273</td>\n",
              "      <td>0.036</td>\n",
              "      <td>0.686</td>\n",
              "      <td>0.222</td>\n",
              "      <td>0.415</td>\n",
              "      <td>0.204</td>\n",
              "      <td>0.095</td>\n",
              "      <td>0.019</td>\n",
              "      <td>0.395</td>\n",
              "      <td>0.095</td>\n",
              "      <td>0.080</td>\n",
              "      <td>0.221</td>\n",
              "      <td>0.298</td>\n",
              "      <td>0.135</td>\n",
              "      <td>0.055</td>\n",
              "      <td>0.040</td>\n",
              "      <td>0.179</td>\n",
              "      <td>0.101</td>\n",
              "      <td>0.084</td>\n",
              "      <td>0.064</td>\n",
              "      <td>0.704</td>\n",
              "      <td>0.193</td>\n",
              "    </tr>\n",
              "    <tr>\n",
              "      <th>2</th>\n",
              "      <td>2007.693</td>\n",
              "      <td>17.057</td>\n",
              "      <td>258.118</td>\n",
              "      <td>0.320</td>\n",
              "      <td>0.275</td>\n",
              "      <td>0.275</td>\n",
              "      <td>0.209</td>\n",
              "      <td>0.216</td>\n",
              "      <td>0.229</td>\n",
              "      <td>0.157</td>\n",
              "      <td>0.144</td>\n",
              "      <td>0.098</td>\n",
              "      <td>0.137</td>\n",
              "      <td>0.438</td>\n",
              "      <td>0.229</td>\n",
              "      <td>0.170</td>\n",
              "      <td>0.144</td>\n",
              "      <td>0.176</td>\n",
              "      <td>0.464</td>\n",
              "      <td>0.379</td>\n",
              "      <td>0.065</td>\n",
              "      <td>0.706</td>\n",
              "      <td>0.209</td>\n",
              "      <td>0.660</td>\n",
              "      <td>0.242</td>\n",
              "      <td>0.085</td>\n",
              "      <td>0.007</td>\n",
              "      <td>0.667</td>\n",
              "      <td>0.190</td>\n",
              "      <td>0.124</td>\n",
              "      <td>0.314</td>\n",
              "      <td>0.582</td>\n",
              "      <td>0.209</td>\n",
              "      <td>0.124</td>\n",
              "      <td>0.157</td>\n",
              "      <td>0.229</td>\n",
              "      <td>0.150</td>\n",
              "      <td>0.137</td>\n",
              "      <td>0.059</td>\n",
              "      <td>0.850</td>\n",
              "      <td>0.085</td>\n",
              "    </tr>\n",
              "    <tr>\n",
              "      <th>3</th>\n",
              "      <td>2007.517</td>\n",
              "      <td>17.228</td>\n",
              "      <td>34.344</td>\n",
              "      <td>0.292</td>\n",
              "      <td>0.268</td>\n",
              "      <td>0.246</td>\n",
              "      <td>0.179</td>\n",
              "      <td>0.172</td>\n",
              "      <td>0.153</td>\n",
              "      <td>0.110</td>\n",
              "      <td>0.111</td>\n",
              "      <td>0.094</td>\n",
              "      <td>0.156</td>\n",
              "      <td>0.345</td>\n",
              "      <td>0.224</td>\n",
              "      <td>0.144</td>\n",
              "      <td>0.136</td>\n",
              "      <td>0.109</td>\n",
              "      <td>0.464</td>\n",
              "      <td>0.338</td>\n",
              "      <td>0.047</td>\n",
              "      <td>0.802</td>\n",
              "      <td>0.264</td>\n",
              "      <td>0.481</td>\n",
              "      <td>0.262</td>\n",
              "      <td>0.120</td>\n",
              "      <td>0.022</td>\n",
              "      <td>0.437</td>\n",
              "      <td>0.121</td>\n",
              "      <td>0.121</td>\n",
              "      <td>0.265</td>\n",
              "      <td>0.378</td>\n",
              "      <td>0.157</td>\n",
              "      <td>0.072</td>\n",
              "      <td>0.050</td>\n",
              "      <td>0.194</td>\n",
              "      <td>0.129</td>\n",
              "      <td>0.088</td>\n",
              "      <td>0.057</td>\n",
              "      <td>0.752</td>\n",
              "      <td>0.175</td>\n",
              "    </tr>\n",
              "    <tr>\n",
              "      <th>4</th>\n",
              "      <td>2007.688</td>\n",
              "      <td>17.066</td>\n",
              "      <td>128.418</td>\n",
              "      <td>0.385</td>\n",
              "      <td>0.292</td>\n",
              "      <td>0.244</td>\n",
              "      <td>0.255</td>\n",
              "      <td>0.203</td>\n",
              "      <td>0.148</td>\n",
              "      <td>0.203</td>\n",
              "      <td>0.134</td>\n",
              "      <td>0.096</td>\n",
              "      <td>0.140</td>\n",
              "      <td>0.479</td>\n",
              "      <td>0.229</td>\n",
              "      <td>0.196</td>\n",
              "      <td>0.203</td>\n",
              "      <td>0.115</td>\n",
              "      <td>0.560</td>\n",
              "      <td>0.290</td>\n",
              "      <td>0.041</td>\n",
              "      <td>0.781</td>\n",
              "      <td>0.257</td>\n",
              "      <td>0.629</td>\n",
              "      <td>0.379</td>\n",
              "      <td>0.157</td>\n",
              "      <td>0.031</td>\n",
              "      <td>0.517</td>\n",
              "      <td>0.156</td>\n",
              "      <td>0.134</td>\n",
              "      <td>0.434</td>\n",
              "      <td>0.487</td>\n",
              "      <td>0.164</td>\n",
              "      <td>0.135</td>\n",
              "      <td>0.092</td>\n",
              "      <td>0.207</td>\n",
              "      <td>0.140</td>\n",
              "      <td>0.119</td>\n",
              "      <td>0.048</td>\n",
              "      <td>0.819</td>\n",
              "      <td>0.094</td>\n",
              "    </tr>\n",
              "  </tbody>\n",
              "</table>\n",
              "</div>"
            ],
            "text/plain": [
              "         gradyear    age  friends  basketball  ...  drunk  drugs     F     M\n",
              "cluster                                        ...                          \n",
              "0        2007.623 17.123   70.467       0.331  ...  0.091  0.059 0.782 0.133\n",
              "1        2007.438 17.309    6.146       0.225  ...  0.084  0.064 0.704 0.193\n",
              "2        2007.693 17.057  258.118       0.320  ...  0.137  0.059 0.850 0.085\n",
              "3        2007.517 17.228   34.344       0.292  ...  0.088  0.057 0.752 0.175\n",
              "4        2007.688 17.066  128.418       0.385  ...  0.119  0.048 0.819 0.094\n",
              "\n",
              "[5 rows x 41 columns]"
            ]
          },
          "metadata": {
            "tags": []
          },
          "execution_count": 33
        }
      ]
    },
    {
      "cell_type": "code",
      "metadata": {
        "id": "xUr3Bm2lUnhk",
        "colab_type": "code",
        "outputId": "d8cadab1-cdec-4a9a-9f52-4f9692f548ea",
        "colab": {
          "base_uri": "https://localhost:8080/",
          "height": 54
        }
      },
      "source": [
        "def max_and_min_to_dict(df):\n",
        "  ''' Return lists for each cluster containing the features in which it has the highest and lowest means. \n",
        "      This gives an idea of how to interpret each cluster.'''\n",
        "  max_min = {}\n",
        "  for i in range(5):\n",
        "    max_min[f\"{i}_maximum\"] = []\n",
        "    max_min[f\"{i}_minimum\"] = []\n",
        "\n",
        "  for i in df.columns:\n",
        "    max_clust = np.argmax(df.groupby(['cluster'])[i].mean())\n",
        "    max_min[f\"{max_clust}_maximum\"].append(i)\n",
        "    min_clust = np.argmin(df.groupby(['cluster'])[i].mean())\n",
        "    max_min[f\"{min_clust}_minimum\"].append(i)\n",
        "\n",
        "  return max_min\n",
        "\n",
        "print(max_and_min_to_dict(df))"
      ],
      "execution_count": 37,
      "outputs": [
        {
          "output_type": "stream",
          "text": [
            "{'0_maximum': ['rock'], '0_minimum': ['sex', 'die', 'cluster'], '1_maximum': ['sports', 'music'], '1_minimum': [], '2_maximum': ['basketball', 'football', 'softball', 'cheerleading', 'cute', 'sex', 'sexy', 'hot', 'dance', 'church', 'jesus', 'bible', 'blonde', 'mall', 'hollister'], '2_minimum': ['drugs'], '3_maximum': ['age', 'drugs', 'M'], '3_minimum': ['gradyear', 'friends', 'basketball', 'football', 'soccer', 'softball', 'volleyball', 'swimming', 'cheerleading', 'baseball', 'tennis', 'sports', 'cute', 'sexy', 'hot', 'kissed', 'dance', 'band', 'marching', 'music', 'god', 'church', 'hair', 'dress', 'blonde', 'mall', 'shopping', 'clothes', 'hollister', 'abercrombie', 'death', 'drunk', 'F'], '4_maximum': ['gradyear', 'friends', 'soccer', 'volleyball', 'swimming', 'baseball', 'tennis', 'kissed', 'band', 'marching', 'god', 'hair', 'dress', 'shopping', 'clothes', 'abercrombie', 'die', 'death', 'drunk', 'F', 'cluster'], '4_minimum': ['age', 'rock', 'jesus', 'bible', 'M']}\n"
          ],
          "name": "stdout"
        }
      ]
    },
    {
      "cell_type": "code",
      "metadata": {
        "id": "V17-N2zcRgWt",
        "colab_type": "code",
        "outputId": "56325720-0481-4d98-f5d5-e94ebebc927d",
        "colab": {
          "base_uri": "https://localhost:8080/",
          "height": 282
        }
      },
      "source": [
        "centers = kmeans.cluster_centers_\n",
        "plt.scatter(centers[:, 0], centers[:, 1], c='black', s=200, alpha=0.5)"
      ],
      "execution_count": 0,
      "outputs": [
        {
          "output_type": "execute_result",
          "data": {
            "text/plain": [
              "<matplotlib.collections.PathCollection at 0x7f073f476780>"
            ]
          },
          "metadata": {
            "tags": []
          },
          "execution_count": 35
        },
        {
          "output_type": "display_data",
          "data": {
            "image/png": "[encoded data removed]",
            "text/plain": [
              "<Figure size 432x288 with 1 Axes>"
            ]
          },
          "metadata": {
            "tags": [],
            "needs_background": "light"
          }
        }
      ]
    },
    {
      "cell_type": "markdown",
      "metadata": {
        "id": "8iYO4xOEmCYv",
        "colab_type": "text"
      },
      "source": [
        "<p> There is a visible distance between the clusters as expected. </p>"
      ]
    },
    {
      "cell_type": "code",
      "metadata": {
        "id": "cZCQxi9wghnl",
        "colab_type": "code",
        "outputId": "8c2e3f20-9d40-41d4-d3d1-6485741d8fe3",
        "colab": {
          "base_uri": "https://localhost:8080/",
          "height": 391
        }
      },
      "source": [
        "sum_of_squares = {}\n",
        "scores = {}\n",
        "for i in range (2,12):\n",
        "  model = KMeans(n_clusters = i, init='k-means++', max_iter=300,\n",
        "                    n_init=10, random_state=0)\n",
        "  predictions = model.fit_predict(scaled_df)\n",
        "  centers = model.cluster_centers_\n",
        "\n",
        "  sum_of_squares[i] = model.inertia_\n",
        "  scores[i] = silhouette_score(scaled_df, predictions)\n",
        "print(\"Within Cluster Sum of Squares:\", *sum_of_squares.items(), sep=\"\\n\")\n",
        "print(\"Silhouette Scores:\", *scores.items(), sep=\"\\n\")"
      ],
      "execution_count": 0,
      "outputs": [
        {
          "output_type": "stream",
          "text": [
            "Within Cluster Sum of Squares:\n",
            "(2, 17499631.728454974)\n",
            "(3, 10182418.907387014)\n",
            "(4, 6998049.1204255475)\n",
            "(5, 5221562.509909969)\n",
            "(6, 4139196.6118674516)\n",
            "(7, 3261192.5059103076)\n",
            "(8, 2715511.804523202)\n",
            "(9, 2379682.533650881)\n",
            "(10, 2157584.8147818586)\n",
            "(11, 1997443.2837439734)\n",
            "Silhouette Scores:\n",
            "(2, 0.6402894592887031)\n",
            "(3, 0.579687474382945)\n",
            "(4, 0.5286732985067059)\n",
            "(5, 0.5153917757868709)\n",
            "(6, 0.4946489500938431)\n",
            "(7, 0.4667878549564446)\n",
            "(8, 0.44786172474695)\n",
            "(9, 0.40869474459870114)\n",
            "(10, 0.38247488335629015)\n",
            "(11, 0.3831122000735432)\n"
          ],
          "name": "stdout"
        }
      ]
    },
    {
      "cell_type": "markdown",
      "metadata": {
        "id": "EcFbsrQ12ITE",
        "colab_type": "text"
      },
      "source": [
        "<p> The clusters I found are believable, but I want to also consider the silhouette score. The formula for silhouette score maximizes distance between clusters and minimizes distance between points within a cluster. I want to maximize silhouette score while minimizing the sum of squared errors. In this case, as my number of clusters increases my silhouette score decreases. It appears that my clusters are getting crowded and/or noisy. </p>"
      ]
    },
    {
      "cell_type": "markdown",
      "metadata": {
        "id": "ulUOcQL9xOSN",
        "colab_type": "text"
      },
      "source": [
        "<h2> Model Two With Only SNS Data </h2>"
      ]
    },
    {
      "cell_type": "code",
      "metadata": {
        "id": "MXptyL9A0coE",
        "colab_type": "code",
        "outputId": "b5087ba0-603f-4990-8230-f85fd0ad5e57",
        "colab": {
          "base_uri": "https://localhost:8080/",
          "height": 295
        }
      },
      "source": [
        "sum_of_squares = []\n",
        "for i in range(1,20):\n",
        "    kmeans = KMeans(n_clusters=i, init='k-means++', max_iter=300,\n",
        "                    n_init=10, random_state=0)\n",
        "    kmeans.fit(scaled_features)\n",
        "    sum_of_squares.append(kmeans.inertia_)\n",
        "plt.plot(range(1,20), sum_of_squares)\n",
        "plt.title('Elbow Graph')\n",
        "plt.xlabel('Number of Clusters')\n",
        "plt.ylabel('Sum of Squares')\n",
        "plt.show()"
      ],
      "execution_count": 16,
      "outputs": [
        {
          "output_type": "display_data",
          "data": {
            "image/png": "[encoded data removed]",
            "text/plain": [
              "<Figure size 432x288 with 1 Axes>"
            ]
          },
          "metadata": {
            "tags": [],
            "needs_background": "light"
          }
        }
      ]
    },
    {
      "cell_type": "markdown",
      "metadata": {
        "id": "vQC3y_UJ4Alb",
        "colab_type": "text"
      },
      "source": [
        "<p> For the sake of achieving better clusters, I try to cluster based only on the SNS features. Gender, age, and friends are disregarded in this method. I find that there is no clear elbow. </p>"
      ]
    },
    {
      "cell_type": "code",
      "metadata": {
        "id": "ducyeQ441rnf",
        "colab_type": "code",
        "outputId": "f9bd34a3-8c71-4ca8-d245-4631c45394cf",
        "colab": {
          "base_uri": "https://localhost:8080/",
          "height": 391
        }
      },
      "source": [
        "sum_of_squares = {}\n",
        "scores = {}\n",
        "for i in range (2,12):\n",
        "  model = KMeans(n_clusters = i, init='k-means++', max_iter=300,\n",
        "                    n_init=10, random_state=0)\n",
        "  predictions = model.fit_predict(scaled_features)\n",
        "  centers = model.cluster_centers_\n",
        "\n",
        "  sum_of_squares[i] = model.inertia_\n",
        "  scores[i] = silhouette_score(scaled_features, predictions)\n",
        "print(\"Within Cluster Sum of Squares:\", *sum_of_squares.items(), sep=\"\\n\")\n",
        "print(\"Silhouette Scores:\", *scores.items(), sep=\"\\n\")"
      ],
      "execution_count": 17,
      "outputs": [
        {
          "output_type": "stream",
          "text": [
            "Within Cluster Sum of Squares:\n",
            "(2, 1023757.2554533876)\n",
            "(3, 994114.3213280775)\n",
            "(4, 965031.1810732435)\n",
            "(5, 939454.1593458481)\n",
            "(6, 913395.5036594466)\n",
            "(7, 895549.1321919467)\n",
            "(8, 875671.6314362204)\n",
            "(9, 855167.3914093846)\n",
            "(10, 838223.7621863837)\n",
            "(11, 825761.1664063677)\n",
            "Silhouette Scores:\n",
            "(2, 0.4232240016388421)\n",
            "(3, 0.3255123760131201)\n",
            "(4, 0.32582781821952633)\n",
            "(5, 0.310569052857367)\n",
            "(6, 0.30456531429643924)\n",
            "(7, 0.29023366528361183)\n",
            "(8, 0.26901719829966547)\n",
            "(9, 0.2546986424243994)\n",
            "(10, 0.24859555646243855)\n",
            "(11, 0.2527628980767327)\n"
          ],
          "name": "stdout"
        }
      ]
    },
    {
      "cell_type": "markdown",
      "metadata": {
        "id": "MNxEBVTi4PgU",
        "colab_type": "text"
      },
      "source": [
        "<p> The silhouette score is worse across cluster counts from 2 to 11, suggesting that it's harder to differentiate between clusters without the number of friends, gender, and age. However, the sum of squares is lower now. Considering both formulae, this suggests that the clusters are denser but closer together. </p>"
      ]
    },
    {
      "cell_type": "code",
      "metadata": {
        "id": "F-Nnij1i5jwb",
        "colab_type": "code",
        "outputId": "f38841fb-08c2-4134-cd6c-89e7a68ddd35",
        "colab": {
          "base_uri": "https://localhost:8080/",
          "height": 282
        }
      },
      "source": [
        "kmeans = KMeans(n_clusters=5)\n",
        "kmeans.fit(features)\n",
        "centers = kmeans.cluster_centers_\n",
        "plt.scatter(centers[:, 0], centers[:, 1], c='black', s=200, alpha=0.5)"
      ],
      "execution_count": 0,
      "outputs": [
        {
          "output_type": "execute_result",
          "data": {
            "text/plain": [
              "<matplotlib.collections.PathCollection at 0x7f073f3c8550>"
            ]
          },
          "metadata": {
            "tags": []
          },
          "execution_count": 39
        },
        {
          "output_type": "display_data",
          "data": {
            "image/png": "[encoded data removed]",
            "text/plain": [
              "<Figure size 432x288 with 1 Axes>"
            ]
          },
          "metadata": {
            "tags": [],
            "needs_background": "light"
          }
        }
      ]
    },
    {
      "cell_type": "markdown",
      "metadata": {
        "id": "y7xRA7lC6hTT",
        "colab_type": "text"
      },
      "source": [
        "<p> The important detail in this graph is the change in scale. The y-axis scaled to 250 before removing age, friends, and gender. Now it only scales to 2.5. This is likely due to age and friends being on a significantly different scale from the other numbers, which were standardized. </p>"
      ]
    },
    {
      "cell_type": "code",
      "metadata": {
        "id": "J_kcK6Mu7UeT",
        "colab_type": "code",
        "outputId": "1df83c5e-f520-4774-ee1b-6b3efc17946d",
        "colab": {
          "base_uri": "https://localhost:8080/",
          "height": 224
        }
      },
      "source": [
        "new_scaled = scaled_df.copy()\n",
        "new_scaled['cluster'] = kmeans.labels_\n",
        "new_scaled.head()"
      ],
      "execution_count": 0,
      "outputs": [
        {
          "output_type": "execute_result",
          "data": {
            "text/html": [
              "<div>\n",
              "<style scoped>\n",
              "    .dataframe tbody tr th:only-of-type {\n",
              "        vertical-align: middle;\n",
              "    }\n",
              "\n",
              "    .dataframe tbody tr th {\n",
              "        vertical-align: top;\n",
              "    }\n",
              "\n",
              "    .dataframe thead th {\n",
              "        text-align: right;\n",
              "    }\n",
              "</style>\n",
              "<table border=\"1\" class=\"dataframe\">\n",
              "  <thead>\n",
              "    <tr style=\"text-align: right;\">\n",
              "      <th></th>\n",
              "      <th>age</th>\n",
              "      <th>friends</th>\n",
              "      <th>basketball</th>\n",
              "      <th>football</th>\n",
              "      <th>soccer</th>\n",
              "      <th>softball</th>\n",
              "      <th>volleyball</th>\n",
              "      <th>swimming</th>\n",
              "      <th>cheerleading</th>\n",
              "      <th>baseball</th>\n",
              "      <th>tennis</th>\n",
              "      <th>sports</th>\n",
              "      <th>cute</th>\n",
              "      <th>sex</th>\n",
              "      <th>sexy</th>\n",
              "      <th>hot</th>\n",
              "      <th>kissed</th>\n",
              "      <th>dance</th>\n",
              "      <th>band</th>\n",
              "      <th>marching</th>\n",
              "      <th>music</th>\n",
              "      <th>rock</th>\n",
              "      <th>god</th>\n",
              "      <th>church</th>\n",
              "      <th>jesus</th>\n",
              "      <th>bible</th>\n",
              "      <th>hair</th>\n",
              "      <th>dress</th>\n",
              "      <th>blonde</th>\n",
              "      <th>mall</th>\n",
              "      <th>shopping</th>\n",
              "      <th>clothes</th>\n",
              "      <th>hollister</th>\n",
              "      <th>abercrombie</th>\n",
              "      <th>die</th>\n",
              "      <th>death</th>\n",
              "      <th>drunk</th>\n",
              "      <th>drugs</th>\n",
              "      <th>F</th>\n",
              "      <th>M</th>\n",
              "      <th>cluster</th>\n",
              "    </tr>\n",
              "  </thead>\n",
              "  <tbody>\n",
              "    <tr>\n",
              "      <th>0</th>\n",
              "      <td>18.982</td>\n",
              "      <td>7</td>\n",
              "      <td>-0.332</td>\n",
              "      <td>-0.358</td>\n",
              "      <td>-0.243</td>\n",
              "      <td>-0.218</td>\n",
              "      <td>-0.224</td>\n",
              "      <td>-0.260</td>\n",
              "      <td>-0.207</td>\n",
              "      <td>-0.201</td>\n",
              "      <td>-0.169</td>\n",
              "      <td>-0.297</td>\n",
              "      <td>-0.402</td>\n",
              "      <td>-0.186</td>\n",
              "      <td>-0.267</td>\n",
              "      <td>-0.264</td>\n",
              "      <td>-0.203</td>\n",
              "      <td>0.494</td>\n",
              "      <td>-0.268</td>\n",
              "      <td>-0.141</td>\n",
              "      <td>-0.589</td>\n",
              "      <td>-0.338</td>\n",
              "      <td>-0.346</td>\n",
              "      <td>-0.298</td>\n",
              "      <td>-0.193</td>\n",
              "      <td>-0.104</td>\n",
              "      <td>-0.385</td>\n",
              "      <td>-0.247</td>\n",
              "      <td>-0.051</td>\n",
              "      <td>-0.370</td>\n",
              "      <td>-0.487</td>\n",
              "      <td>-0.314</td>\n",
              "      <td>-0.201</td>\n",
              "      <td>-0.183</td>\n",
              "      <td>-0.295</td>\n",
              "      <td>-0.262</td>\n",
              "      <td>-0.220</td>\n",
              "      <td>-0.175</td>\n",
              "      <td>0</td>\n",
              "      <td>1</td>\n",
              "      <td>1</td>\n",
              "    </tr>\n",
              "    <tr>\n",
              "      <th>1</th>\n",
              "      <td>18.801</td>\n",
              "      <td>0</td>\n",
              "      <td>-0.332</td>\n",
              "      <td>1.060</td>\n",
              "      <td>-0.243</td>\n",
              "      <td>-0.218</td>\n",
              "      <td>-0.224</td>\n",
              "      <td>-0.260</td>\n",
              "      <td>-0.207</td>\n",
              "      <td>-0.201</td>\n",
              "      <td>-0.169</td>\n",
              "      <td>-0.297</td>\n",
              "      <td>0.844</td>\n",
              "      <td>-0.186</td>\n",
              "      <td>-0.267</td>\n",
              "      <td>-0.264</td>\n",
              "      <td>-0.203</td>\n",
              "      <td>-0.366</td>\n",
              "      <td>-0.268</td>\n",
              "      <td>-0.141</td>\n",
              "      <td>1.008</td>\n",
              "      <td>2.439</td>\n",
              "      <td>0.398</td>\n",
              "      <td>-0.298</td>\n",
              "      <td>-0.193</td>\n",
              "      <td>-0.104</td>\n",
              "      <td>5.080</td>\n",
              "      <td>8.653</td>\n",
              "      <td>-0.051</td>\n",
              "      <td>1.067</td>\n",
              "      <td>-0.487</td>\n",
              "      <td>-0.314</td>\n",
              "      <td>-0.201</td>\n",
              "      <td>-0.183</td>\n",
              "      <td>-0.295</td>\n",
              "      <td>-0.262</td>\n",
              "      <td>-0.220</td>\n",
              "      <td>-0.175</td>\n",
              "      <td>1</td>\n",
              "      <td>0</td>\n",
              "      <td>2</td>\n",
              "    </tr>\n",
              "    <tr>\n",
              "      <th>2</th>\n",
              "      <td>18.335</td>\n",
              "      <td>69</td>\n",
              "      <td>-0.332</td>\n",
              "      <td>1.060</td>\n",
              "      <td>-0.243</td>\n",
              "      <td>-0.218</td>\n",
              "      <td>-0.224</td>\n",
              "      <td>-0.260</td>\n",
              "      <td>-0.207</td>\n",
              "      <td>-0.201</td>\n",
              "      <td>-0.169</td>\n",
              "      <td>-0.297</td>\n",
              "      <td>-0.402</td>\n",
              "      <td>-0.186</td>\n",
              "      <td>-0.267</td>\n",
              "      <td>-0.264</td>\n",
              "      <td>-0.203</td>\n",
              "      <td>-0.366</td>\n",
              "      <td>1.520</td>\n",
              "      <td>-0.141</td>\n",
              "      <td>0.209</td>\n",
              "      <td>-0.338</td>\n",
              "      <td>-0.346</td>\n",
              "      <td>-0.298</td>\n",
              "      <td>-0.193</td>\n",
              "      <td>-0.104</td>\n",
              "      <td>-0.385</td>\n",
              "      <td>-0.247</td>\n",
              "      <td>-0.051</td>\n",
              "      <td>-0.370</td>\n",
              "      <td>-0.487</td>\n",
              "      <td>-0.314</td>\n",
              "      <td>-0.201</td>\n",
              "      <td>-0.183</td>\n",
              "      <td>-0.295</td>\n",
              "      <td>2.028</td>\n",
              "      <td>-0.220</td>\n",
              "      <td>-0.175</td>\n",
              "      <td>0</td>\n",
              "      <td>1</td>\n",
              "      <td>1</td>\n",
              "    </tr>\n",
              "    <tr>\n",
              "      <th>3</th>\n",
              "      <td>18.875</td>\n",
              "      <td>0</td>\n",
              "      <td>-0.332</td>\n",
              "      <td>-0.358</td>\n",
              "      <td>-0.243</td>\n",
              "      <td>-0.218</td>\n",
              "      <td>-0.224</td>\n",
              "      <td>-0.260</td>\n",
              "      <td>-0.207</td>\n",
              "      <td>-0.201</td>\n",
              "      <td>-0.169</td>\n",
              "      <td>-0.297</td>\n",
              "      <td>0.844</td>\n",
              "      <td>-0.186</td>\n",
              "      <td>-0.267</td>\n",
              "      <td>-0.264</td>\n",
              "      <td>-0.203</td>\n",
              "      <td>-0.366</td>\n",
              "      <td>-0.268</td>\n",
              "      <td>-0.141</td>\n",
              "      <td>-0.589</td>\n",
              "      <td>1.050</td>\n",
              "      <td>-0.346</td>\n",
              "      <td>-0.298</td>\n",
              "      <td>-0.193</td>\n",
              "      <td>-0.104</td>\n",
              "      <td>-0.385</td>\n",
              "      <td>-0.247</td>\n",
              "      <td>-0.051</td>\n",
              "      <td>-0.370</td>\n",
              "      <td>-0.487</td>\n",
              "      <td>-0.314</td>\n",
              "      <td>-0.201</td>\n",
              "      <td>-0.183</td>\n",
              "      <td>-0.295</td>\n",
              "      <td>-0.262</td>\n",
              "      <td>-0.220</td>\n",
              "      <td>-0.175</td>\n",
              "      <td>1</td>\n",
              "      <td>0</td>\n",
              "      <td>1</td>\n",
              "    </tr>\n",
              "    <tr>\n",
              "      <th>4</th>\n",
              "      <td>18.995</td>\n",
              "      <td>10</td>\n",
              "      <td>-0.332</td>\n",
              "      <td>-0.358</td>\n",
              "      <td>-0.243</td>\n",
              "      <td>-0.218</td>\n",
              "      <td>-0.224</td>\n",
              "      <td>-0.260</td>\n",
              "      <td>-0.207</td>\n",
              "      <td>-0.201</td>\n",
              "      <td>-0.169</td>\n",
              "      <td>-0.297</td>\n",
              "      <td>-0.402</td>\n",
              "      <td>0.704</td>\n",
              "      <td>-0.267</td>\n",
              "      <td>-0.264</td>\n",
              "      <td>9.614</td>\n",
              "      <td>0.494</td>\n",
              "      <td>0.626</td>\n",
              "      <td>-0.141</td>\n",
              "      <td>1.806</td>\n",
              "      <td>-0.338</td>\n",
              "      <td>0.398</td>\n",
              "      <td>-0.298</td>\n",
              "      <td>-0.193</td>\n",
              "      <td>-0.104</td>\n",
              "      <td>0.526</td>\n",
              "      <td>-0.247</td>\n",
              "      <td>-0.051</td>\n",
              "      <td>-0.370</td>\n",
              "      <td>2.274</td>\n",
              "      <td>-0.314</td>\n",
              "      <td>-0.201</td>\n",
              "      <td>-0.183</td>\n",
              "      <td>-0.295</td>\n",
              "      <td>-0.262</td>\n",
              "      <td>2.285</td>\n",
              "      <td>2.719</td>\n",
              "      <td>0</td>\n",
              "      <td>0</td>\n",
              "      <td>4</td>\n",
              "    </tr>\n",
              "  </tbody>\n",
              "</table>\n",
              "</div>"
            ],
            "text/plain": [
              "     age  friends  basketball  football  soccer  ...  drunk  drugs  F  M  cluster\n",
              "0 18.982        7      -0.332    -0.358  -0.243  ... -0.220 -0.175  0  1        1\n",
              "1 18.801        0      -0.332     1.060  -0.243  ... -0.220 -0.175  1  0        2\n",
              "2 18.335       69      -0.332     1.060  -0.243  ... -0.220 -0.175  0  1        1\n",
              "3 18.875        0      -0.332    -0.358  -0.243  ... -0.220 -0.175  1  0        1\n",
              "4 18.995       10      -0.332    -0.358  -0.243  ...  2.285  2.719  0  0        4\n",
              "\n",
              "[5 rows x 41 columns]"
            ]
          },
          "metadata": {
            "tags": []
          },
          "execution_count": 40
        }
      ]
    },
    {
      "cell_type": "code",
      "metadata": {
        "id": "gY9AMbf584Mj",
        "colab_type": "code",
        "outputId": "c0fc4379-5028-4b88-9516-503b1737a2a8",
        "colab": {
          "base_uri": "https://localhost:8080/",
          "height": 442
        }
      },
      "source": [
        "plt.figure(figsize=(12,7))\n",
        "axis = sb.barplot(x=np.arange(0,5,1), y = new_scaled.groupby(['cluster']).count()['age'].values)\n",
        "x = axis.set_xlabel(\"Cluster Number\")\n",
        "x = axis.set_ylabel(\"Number of Students\")"
      ],
      "execution_count": 0,
      "outputs": [
        {
          "output_type": "display_data",
          "data": {
            "image/png": "[encoded data removed]",
            "text/plain": [
              "<Figure size 864x504 with 1 Axes>"
            ]
          },
          "metadata": {
            "tags": [],
            "needs_background": "light"
          }
        }
      ]
    },
    {
      "cell_type": "markdown",
      "metadata": {
        "id": "cNOE3kYi9T0a",
        "colab_type": "text"
      },
      "source": [
        "<p> The clusters in this method are even more disparate. This suggests that age, gender, and friends carried useful explanatory power. </p>"
      ]
    },
    {
      "cell_type": "markdown",
      "metadata": {
        "id": "Sw2S4o3yj494",
        "colab_type": "text"
      },
      "source": [
        "<h2> Model Three: Gaussian Mixture Model of 5 Clusters </h2>"
      ]
    },
    {
      "cell_type": "code",
      "metadata": {
        "id": "pnb5YM0VY1ha",
        "colab_type": "code",
        "outputId": "2e8587d6-4938-4f28-bed1-5f5f72f08c9c",
        "colab": {
          "base_uri": "https://localhost:8080/",
          "height": 85
        }
      },
      "source": [
        "from sklearn.mixture import GaussianMixture as GMM\n",
        "gmm = GMM(n_components=5, verbose=1, random_state=0).fit(scaled_df)"
      ],
      "execution_count": 0,
      "outputs": [
        {
          "output_type": "stream",
          "text": [
            "Initialization 0\n",
            "  Iteration 10\n",
            "  Iteration 20\n",
            "Initialization converged: True\n"
          ],
          "name": "stdout"
        }
      ]
    },
    {
      "cell_type": "markdown",
      "metadata": {
        "id": "XNCPUuG-ikUF",
        "colab_type": "text"
      },
      "source": [
        "<p> The Gaussian Mixture Model is often applied in instances where data is incomplete and there may be hidden variables. This may be such a case. For that reason I am applying it with the same number of clusters as my original model. </p>"
      ]
    },
    {
      "cell_type": "code",
      "metadata": {
        "id": "w9kJlhnlZsDS",
        "colab_type": "code",
        "outputId": "9dc4d98f-ef29-40ea-a305-a7d2640a2ab7",
        "colab": {
          "base_uri": "https://localhost:8080/",
          "height": 282
        }
      },
      "source": [
        "centers = gmm.means_\n",
        "plt.scatter(centers[:, 0], centers[:, 1], c='black', s=200, alpha=0.5)"
      ],
      "execution_count": 0,
      "outputs": [
        {
          "output_type": "execute_result",
          "data": {
            "text/plain": [
              "<matplotlib.collections.PathCollection at 0x7f075b4edb00>"
            ]
          },
          "metadata": {
            "tags": []
          },
          "execution_count": 57
        },
        {
          "output_type": "display_data",
          "data": {
            "image/png": "[encoded data removed]",
            "text/plain": [
              "<Figure size 432x288 with 1 Axes>"
            ]
          },
          "metadata": {
            "tags": [],
            "needs_background": "light"
          }
        }
      ]
    },
    {
      "cell_type": "markdown",
      "metadata": {
        "id": "FcRzuGBCjeUQ",
        "colab_type": "text"
      },
      "source": [
        "<p> The overall distribution of the cluster centers looks similar to what I achieved before. </p>"
      ]
    },
    {
      "cell_type": "code",
      "metadata": {
        "id": "a8q3vmY_hxmR",
        "colab_type": "code",
        "outputId": "7719f9cb-8f9b-4827-c97e-4e44c8f996df",
        "colab": {
          "base_uri": "https://localhost:8080/",
          "height": 34
        }
      },
      "source": [
        "predictions = gmm.predict(scaled_df)\n",
        "slhtt = silhouette_score(scaled_df, predictions)\n",
        "print(slhtt)"
      ],
      "execution_count": 0,
      "outputs": [
        {
          "output_type": "stream",
          "text": [
            "0.009789303418326064\n"
          ],
          "name": "stdout"
        }
      ]
    },
    {
      "cell_type": "markdown",
      "metadata": {
        "id": "gEZnrD2rigay",
        "colab_type": "text"
      },
      "source": [
        "<p> The silhouette score is significantly lower than what I achieved on the first model. K-Means clustering appears to be the better model. </p>"
      ]
    },
    {
      "cell_type": "markdown",
      "metadata": {
        "id": "UphU4GHWvMGY",
        "colab_type": "text"
      },
      "source": [
        "<h2> Model Four: Normalized Data </h2>"
      ]
    },
    {
      "cell_type": "markdown",
      "metadata": {
        "id": "nMarzHRkvl18",
        "colab_type": "text"
      },
      "source": [
        "This model is similar to the first, which performed best so far. However, the data is noramlized for this model instead of scaled. Additionally, the WCSS looked better without age, gender, and friends, but not the silhouette score. This may be due to the scale of friends, so I will try including and normalizing friends as well."
      ]
    },
    {
      "cell_type": "code",
      "metadata": {
        "id": "pIgoXEugtMhp",
        "colab_type": "code",
        "colab": {}
      },
      "source": [
        "variables = df.columns[2:39] # I standardize the SNS data but set aside age, gender, and friends.\n",
        "features = df[variables].copy()\n",
        "normalizer = Normalizer().fit(features.values)\n",
        "norm_features = normalizer.transform(features.values)"
      ],
      "execution_count": 0,
      "outputs": []
    },
    {
      "cell_type": "code",
      "metadata": {
        "id": "Nma31QDCtY16",
        "colab_type": "code",
        "colab": {}
      },
      "source": [
        "norm_df = df.copy()\n",
        "norm_df[variables] = norm_features\n",
        "norm_df.head()\n",
        "norm_df.drop(['gradyear'], axis=1, inplace=True)"
      ],
      "execution_count": 0,
      "outputs": []
    },
    {
      "cell_type": "code",
      "metadata": {
        "id": "x3ptosjFtrf3",
        "colab_type": "code",
        "colab": {
          "base_uri": "https://localhost:8080/",
          "height": 391
        },
        "outputId": "5d77feb3-987d-497b-8ada-9006470cfd80"
      },
      "source": [
        "sum_of_squares = {}\n",
        "scores = {}\n",
        "for i in range (2,12):\n",
        "  model = KMeans(n_clusters = i, init='k-means++', max_iter=300,\n",
        "                    n_init=10, random_state=0)\n",
        "  predictions = model.fit_predict(norm_df)\n",
        "  centers = model.cluster_centers_\n",
        "\n",
        "  sum_of_squares[i] = model.inertia_\n",
        "  scores[i] = silhouette_score(norm_df, predictions)\n",
        "print(\"Within Cluster Sum of Squares:\", *sum_of_squares.items(), sep=\"\\n\")\n",
        "print(\"Silhouette Scores:\", *scores.items(), sep=\"\\n\")"
      ],
      "execution_count": 20,
      "outputs": [
        {
          "output_type": "stream",
          "text": [
            "Within Cluster Sum of Squares:\n",
            "(2, 31587.810489729287)\n",
            "(3, 26023.098413561296)\n",
            "(4, 22210.937056351784)\n",
            "(5, 19069.976243246576)\n",
            "(6, 17651.313426401444)\n",
            "(7, 16084.572175804142)\n",
            "(8, 14811.057917529977)\n",
            "(9, 13782.824782176349)\n",
            "(10, 12912.097665325975)\n",
            "(11, 12312.942186162953)\n",
            "Silhouette Scores:\n",
            "(2, 0.40545062188330727)\n",
            "(3, 0.28840823065134963)\n",
            "(4, 0.3108964632017744)\n",
            "(5, 0.32632801222226504)\n",
            "(6, 0.3257339206609511)\n",
            "(7, 0.29645607601232027)\n",
            "(8, 0.30421129584670187)\n",
            "(9, 0.31548865311113755)\n",
            "(10, 0.32674680639648446)\n",
            "(11, 0.3348058725774745)\n"
          ],
          "name": "stdout"
        }
      ]
    },
    {
      "cell_type": "code",
      "metadata": {
        "id": "2pVTjB3mwNX3",
        "colab_type": "code",
        "colab": {
          "base_uri": "https://localhost:8080/",
          "height": 295
        },
        "outputId": "b8296af9-8f34-4618-e7bc-19a2cb2274b7"
      },
      "source": [
        "sum_of_squares = []\n",
        "for i in range(1,20):\n",
        "    kmeans = KMeans(n_clusters=i, init='k-means++', max_iter=300,\n",
        "                    n_init=10, random_state=0)\n",
        "    kmeans.fit(norm_df)\n",
        "    sum_of_squares.append(kmeans.inertia_)\n",
        "plt.plot(range(1,20), sum_of_squares)\n",
        "plt.title('Elbow Graph')\n",
        "plt.xlabel('Number of Clusters')\n",
        "plt.ylabel('Sum of Squares')\n",
        "plt.show()"
      ],
      "execution_count": 21,
      "outputs": [
        {
          "output_type": "display_data",
          "data": {
            "image/png": "[encoded data removed]",
            "text/plain": [
              "<Figure size 432x288 with 1 Axes>"
            ]
          },
          "metadata": {
            "tags": [],
            "needs_background": "light"
          }
        }
      ]
    },
    {
      "cell_type": "code",
      "metadata": {
        "id": "RzoE7rS_yiHq",
        "colab_type": "code",
        "colab": {
          "base_uri": "https://localhost:8080/",
          "height": 282
        },
        "outputId": "2b1807db-abc5-4ea9-86d9-e97d26b415c3"
      },
      "source": [
        "kmeans = KMeans(n_clusters=5)\n",
        "kmeans.fit(norm_df)\n",
        "centers = kmeans.cluster_centers_\n",
        "plt.scatter(centers[:, 0], centers[:, 1], c='black', s=200, alpha=0.5)"
      ],
      "execution_count": 22,
      "outputs": [
        {
          "output_type": "execute_result",
          "data": {
            "text/plain": [
              "<matplotlib.collections.PathCollection at 0x7f90f72cb9e8>"
            ]
          },
          "metadata": {
            "tags": []
          },
          "execution_count": 22
        },
        {
          "output_type": "display_data",
          "data": {
            "image/png": "[encoded data removed]",
            "text/plain": [
              "<Figure size 432x288 with 1 Axes>"
            ]
          },
          "metadata": {
            "tags": [],
            "needs_background": "light"
          }
        }
      ]
    },
    {
      "cell_type": "code",
      "metadata": {
        "id": "TDhTPCJvzqaC",
        "colab_type": "code",
        "colab": {
          "base_uri": "https://localhost:8080/",
          "height": 224
        },
        "outputId": "df576d62-2154-40b6-f861-90a4c07e2050"
      },
      "source": [
        "norm_df['cluster'] = kmeans.labels_\n",
        "norm_df.head()"
      ],
      "execution_count": 25,
      "outputs": [
        {
          "output_type": "execute_result",
          "data": {
            "text/html": [
              "<div>\n",
              "<style scoped>\n",
              "    .dataframe tbody tr th:only-of-type {\n",
              "        vertical-align: middle;\n",
              "    }\n",
              "\n",
              "    .dataframe tbody tr th {\n",
              "        vertical-align: top;\n",
              "    }\n",
              "\n",
              "    .dataframe thead th {\n",
              "        text-align: right;\n",
              "    }\n",
              "</style>\n",
              "<table border=\"1\" class=\"dataframe\">\n",
              "  <thead>\n",
              "    <tr style=\"text-align: right;\">\n",
              "      <th></th>\n",
              "      <th>age</th>\n",
              "      <th>friends</th>\n",
              "      <th>basketball</th>\n",
              "      <th>football</th>\n",
              "      <th>soccer</th>\n",
              "      <th>softball</th>\n",
              "      <th>volleyball</th>\n",
              "      <th>swimming</th>\n",
              "      <th>cheerleading</th>\n",
              "      <th>baseball</th>\n",
              "      <th>tennis</th>\n",
              "      <th>sports</th>\n",
              "      <th>cute</th>\n",
              "      <th>sex</th>\n",
              "      <th>sexy</th>\n",
              "      <th>hot</th>\n",
              "      <th>kissed</th>\n",
              "      <th>dance</th>\n",
              "      <th>band</th>\n",
              "      <th>marching</th>\n",
              "      <th>music</th>\n",
              "      <th>rock</th>\n",
              "      <th>god</th>\n",
              "      <th>church</th>\n",
              "      <th>jesus</th>\n",
              "      <th>bible</th>\n",
              "      <th>hair</th>\n",
              "      <th>dress</th>\n",
              "      <th>blonde</th>\n",
              "      <th>mall</th>\n",
              "      <th>shopping</th>\n",
              "      <th>clothes</th>\n",
              "      <th>hollister</th>\n",
              "      <th>abercrombie</th>\n",
              "      <th>die</th>\n",
              "      <th>death</th>\n",
              "      <th>drunk</th>\n",
              "      <th>drugs</th>\n",
              "      <th>F</th>\n",
              "      <th>M</th>\n",
              "      <th>cluster</th>\n",
              "    </tr>\n",
              "  </thead>\n",
              "  <tbody>\n",
              "    <tr>\n",
              "      <th>0</th>\n",
              "      <td>18.982</td>\n",
              "      <td>0.989949</td>\n",
              "      <td>0.0</td>\n",
              "      <td>0.000000</td>\n",
              "      <td>0.0</td>\n",
              "      <td>0.0</td>\n",
              "      <td>0.0</td>\n",
              "      <td>0.0</td>\n",
              "      <td>0.0</td>\n",
              "      <td>0.0</td>\n",
              "      <td>0.0</td>\n",
              "      <td>0.0</td>\n",
              "      <td>0.000000</td>\n",
              "      <td>0.000000</td>\n",
              "      <td>0.0</td>\n",
              "      <td>0.0</td>\n",
              "      <td>0.000000</td>\n",
              "      <td>0.141421</td>\n",
              "      <td>0.000000</td>\n",
              "      <td>0.0</td>\n",
              "      <td>0.000000</td>\n",
              "      <td>0.000000</td>\n",
              "      <td>0.000000</td>\n",
              "      <td>0.0</td>\n",
              "      <td>0.0</td>\n",
              "      <td>0.0</td>\n",
              "      <td>0.000000</td>\n",
              "      <td>0.0</td>\n",
              "      <td>0.0</td>\n",
              "      <td>0.000</td>\n",
              "      <td>0.000000</td>\n",
              "      <td>0.0</td>\n",
              "      <td>0.0</td>\n",
              "      <td>0.0</td>\n",
              "      <td>0.0</td>\n",
              "      <td>0.000000</td>\n",
              "      <td>0.000000</td>\n",
              "      <td>0.000000</td>\n",
              "      <td>0</td>\n",
              "      <td>1</td>\n",
              "      <td>2</td>\n",
              "    </tr>\n",
              "    <tr>\n",
              "      <th>1</th>\n",
              "      <td>18.801</td>\n",
              "      <td>0.000000</td>\n",
              "      <td>0.0</td>\n",
              "      <td>0.125000</td>\n",
              "      <td>0.0</td>\n",
              "      <td>0.0</td>\n",
              "      <td>0.0</td>\n",
              "      <td>0.0</td>\n",
              "      <td>0.0</td>\n",
              "      <td>0.0</td>\n",
              "      <td>0.0</td>\n",
              "      <td>0.0</td>\n",
              "      <td>0.125000</td>\n",
              "      <td>0.000000</td>\n",
              "      <td>0.0</td>\n",
              "      <td>0.0</td>\n",
              "      <td>0.000000</td>\n",
              "      <td>0.000000</td>\n",
              "      <td>0.000000</td>\n",
              "      <td>0.0</td>\n",
              "      <td>0.250000</td>\n",
              "      <td>0.250000</td>\n",
              "      <td>0.125000</td>\n",
              "      <td>0.0</td>\n",
              "      <td>0.0</td>\n",
              "      <td>0.0</td>\n",
              "      <td>0.750000</td>\n",
              "      <td>0.5</td>\n",
              "      <td>0.0</td>\n",
              "      <td>0.125</td>\n",
              "      <td>0.000000</td>\n",
              "      <td>0.0</td>\n",
              "      <td>0.0</td>\n",
              "      <td>0.0</td>\n",
              "      <td>0.0</td>\n",
              "      <td>0.000000</td>\n",
              "      <td>0.000000</td>\n",
              "      <td>0.000000</td>\n",
              "      <td>1</td>\n",
              "      <td>0</td>\n",
              "      <td>0</td>\n",
              "    </tr>\n",
              "    <tr>\n",
              "      <th>2</th>\n",
              "      <td>18.335</td>\n",
              "      <td>0.999266</td>\n",
              "      <td>0.0</td>\n",
              "      <td>0.014482</td>\n",
              "      <td>0.0</td>\n",
              "      <td>0.0</td>\n",
              "      <td>0.0</td>\n",
              "      <td>0.0</td>\n",
              "      <td>0.0</td>\n",
              "      <td>0.0</td>\n",
              "      <td>0.0</td>\n",
              "      <td>0.0</td>\n",
              "      <td>0.000000</td>\n",
              "      <td>0.000000</td>\n",
              "      <td>0.0</td>\n",
              "      <td>0.0</td>\n",
              "      <td>0.000000</td>\n",
              "      <td>0.000000</td>\n",
              "      <td>0.028964</td>\n",
              "      <td>0.0</td>\n",
              "      <td>0.014482</td>\n",
              "      <td>0.000000</td>\n",
              "      <td>0.000000</td>\n",
              "      <td>0.0</td>\n",
              "      <td>0.0</td>\n",
              "      <td>0.0</td>\n",
              "      <td>0.000000</td>\n",
              "      <td>0.0</td>\n",
              "      <td>0.0</td>\n",
              "      <td>0.000</td>\n",
              "      <td>0.000000</td>\n",
              "      <td>0.0</td>\n",
              "      <td>0.0</td>\n",
              "      <td>0.0</td>\n",
              "      <td>0.0</td>\n",
              "      <td>0.014482</td>\n",
              "      <td>0.000000</td>\n",
              "      <td>0.000000</td>\n",
              "      <td>0</td>\n",
              "      <td>1</td>\n",
              "      <td>2</td>\n",
              "    </tr>\n",
              "    <tr>\n",
              "      <th>3</th>\n",
              "      <td>18.875</td>\n",
              "      <td>0.000000</td>\n",
              "      <td>0.0</td>\n",
              "      <td>0.000000</td>\n",
              "      <td>0.0</td>\n",
              "      <td>0.0</td>\n",
              "      <td>0.0</td>\n",
              "      <td>0.0</td>\n",
              "      <td>0.0</td>\n",
              "      <td>0.0</td>\n",
              "      <td>0.0</td>\n",
              "      <td>0.0</td>\n",
              "      <td>0.707107</td>\n",
              "      <td>0.000000</td>\n",
              "      <td>0.0</td>\n",
              "      <td>0.0</td>\n",
              "      <td>0.000000</td>\n",
              "      <td>0.000000</td>\n",
              "      <td>0.000000</td>\n",
              "      <td>0.0</td>\n",
              "      <td>0.000000</td>\n",
              "      <td>0.707107</td>\n",
              "      <td>0.000000</td>\n",
              "      <td>0.0</td>\n",
              "      <td>0.0</td>\n",
              "      <td>0.0</td>\n",
              "      <td>0.000000</td>\n",
              "      <td>0.0</td>\n",
              "      <td>0.0</td>\n",
              "      <td>0.000</td>\n",
              "      <td>0.000000</td>\n",
              "      <td>0.0</td>\n",
              "      <td>0.0</td>\n",
              "      <td>0.0</td>\n",
              "      <td>0.0</td>\n",
              "      <td>0.000000</td>\n",
              "      <td>0.000000</td>\n",
              "      <td>0.000000</td>\n",
              "      <td>1</td>\n",
              "      <td>0</td>\n",
              "      <td>0</td>\n",
              "    </tr>\n",
              "    <tr>\n",
              "      <th>4</th>\n",
              "      <td>18.995</td>\n",
              "      <td>0.830455</td>\n",
              "      <td>0.0</td>\n",
              "      <td>0.000000</td>\n",
              "      <td>0.0</td>\n",
              "      <td>0.0</td>\n",
              "      <td>0.0</td>\n",
              "      <td>0.0</td>\n",
              "      <td>0.0</td>\n",
              "      <td>0.0</td>\n",
              "      <td>0.0</td>\n",
              "      <td>0.0</td>\n",
              "      <td>0.000000</td>\n",
              "      <td>0.083045</td>\n",
              "      <td>0.0</td>\n",
              "      <td>0.0</td>\n",
              "      <td>0.415227</td>\n",
              "      <td>0.083045</td>\n",
              "      <td>0.083045</td>\n",
              "      <td>0.0</td>\n",
              "      <td>0.249136</td>\n",
              "      <td>0.000000</td>\n",
              "      <td>0.083045</td>\n",
              "      <td>0.0</td>\n",
              "      <td>0.0</td>\n",
              "      <td>0.0</td>\n",
              "      <td>0.083045</td>\n",
              "      <td>0.0</td>\n",
              "      <td>0.0</td>\n",
              "      <td>0.000</td>\n",
              "      <td>0.166091</td>\n",
              "      <td>0.0</td>\n",
              "      <td>0.0</td>\n",
              "      <td>0.0</td>\n",
              "      <td>0.0</td>\n",
              "      <td>0.000000</td>\n",
              "      <td>0.083045</td>\n",
              "      <td>0.083045</td>\n",
              "      <td>0</td>\n",
              "      <td>0</td>\n",
              "      <td>2</td>\n",
              "    </tr>\n",
              "  </tbody>\n",
              "</table>\n",
              "</div>"
            ],
            "text/plain": [
              "      age   friends  basketball  football  ...     drugs  F  M  cluster\n",
              "0  18.982  0.989949         0.0  0.000000  ...  0.000000  0  1        2\n",
              "1  18.801  0.000000         0.0  0.125000  ...  0.000000  1  0        0\n",
              "2  18.335  0.999266         0.0  0.014482  ...  0.000000  0  1        2\n",
              "3  18.875  0.000000         0.0  0.000000  ...  0.000000  1  0        0\n",
              "4  18.995  0.830455         0.0  0.000000  ...  0.083045  0  0        2\n",
              "\n",
              "[5 rows x 41 columns]"
            ]
          },
          "metadata": {
            "tags": []
          },
          "execution_count": 25
        }
      ]
    },
    {
      "cell_type": "code",
      "metadata": {
        "id": "wSnSp7Jgz7Tq",
        "colab_type": "code",
        "colab": {
          "base_uri": "https://localhost:8080/",
          "height": 442
        },
        "outputId": "c5a22358-9010-4c8f-dd91-6b93ba388af5"
      },
      "source": [
        "plt.figure(figsize=(12,7))\n",
        "axis = sb.barplot(x=np.arange(0,5,1), y = norm_df.groupby(['cluster']).count()['age'].values)\n",
        "x = axis.set_xlabel(\"Cluster Number\")\n",
        "x = axis.set_ylabel(\"Number of Students\")"
      ],
      "execution_count": 26,
      "outputs": [
        {
          "output_type": "display_data",
          "data": {
            "image/png": "[encoded data removed]",
            "text/plain": [
              "<Figure size 864x504 with 1 Axes>"
            ]
          },
          "metadata": {
            "tags": [],
            "needs_background": "light"
          }
        }
      ]
    },
    {
      "cell_type": "code",
      "metadata": {
        "id": "FzM3SIIR0gLo",
        "colab_type": "code",
        "colab": {
          "base_uri": "https://localhost:8080/",
          "height": 54
        },
        "outputId": "13db626c-1c12-47c2-d03e-c109bab17bbe"
      },
      "source": [
        "print(max_and_min_to_dict(norm_df))"
      ],
      "execution_count": 28,
      "outputs": [
        {
          "output_type": "stream",
          "text": [
            "{'0_maximum': ['age', 'cute', 'sex', 'music', 'god', 'jesus', 'bible', 'dress', 'shopping', 'death', 'drunk', 'drugs', 'F'], '0_minimum': ['basketball', 'soccer', 'sports', 'M', 'cluster'], '1_maximum': ['hot', 'kissed'], '1_minimum': ['jesus'], '2_maximum': ['tennis', 'band', 'marching', 'die', 'M'], '2_minimum': ['friends', 'softball', 'volleyball', 'cheerleading', 'cute', 'sexy', 'hot', 'kissed', 'dance', 'church', 'hair', 'blonde', 'mall', 'clothes', 'hollister', 'abercrombie', 'drugs', 'F'], '3_maximum': ['basketball', 'football', 'soccer', 'baseball', 'sports', 'rock'], '3_minimum': ['swimming', 'music', 'god', 'dress', 'shopping', 'death', 'drunk'], '4_maximum': ['friends', 'softball', 'volleyball', 'swimming', 'cheerleading', 'sexy', 'dance', 'church', 'hair', 'blonde', 'mall', 'clothes', 'hollister', 'abercrombie', 'cluster'], '4_minimum': ['age', 'football', 'baseball', 'tennis', 'sex', 'band', 'marching', 'rock', 'bible', 'die']}\n"
          ],
          "name": "stdout"
        }
      ]
    },
    {
      "cell_type": "markdown",
      "metadata": {
        "id": "EQxZyEIw2r4Q",
        "colab_type": "text"
      },
      "source": [
        "<h2> Conclusion: 5 Cluster Model Including Personal Information </h2>"
      ]
    },
    {
      "cell_type": "markdown",
      "metadata": {
        "id": "Hys6odbq_qM2",
        "colab_type": "text"
      },
      "source": [
        "In conclusion, the model I would suggest using is the one that retains age, gender, and friends. I used K Means with normalized features. This results in a higher silhouette score and a clear elbow for selecting number of clusters. More clusters would reduce the WCSS but would also decrease the silhouette score, so there is a tradeoff.\n",
        "\n",
        "Here are results from the means of each cluster. I've included that output in the next cell for ease of reference.\n",
        "\n",
        "Cluster 1 is the largest with the highest means in hot and kissed and the lowest mean in jesus. Ideally, there would be more outstanding features in the largest cluster, but there could be a generic trend to this cluster.\n",
        "\n",
        "Cluster 4 is the second largest with various extracurricular activities as their highest values. This cluster is surprising as the lowest means for many other extracurricular activities are also present here. This may represent some preference in some sports over others for a demographic. Also of interest is that sexy is represented here, but sex is at a minimum representation in this cluster. This is also the youngest group.\n",
        "\n",
        "Cluster 0 is the oldest, has the highest mentions of sex and some religious categories. It is also the oldest group and has the lowest representation of males. Though, this may not be very informative for gender-based marketing due to the imbalanced dataset.\n",
        "\n",
        "Cluster 2 has the most males along with marching and band. It has the lowest representation in many sports and fashion categories.\n",
        "\n",
        "Cluster 3 is the smallest with several competitive sports. There are not obvious connotations to me in the categories least represented in cluster 3.\n",
        "\n",
        "Overall, I would prefer to see clearer connections in each cluster, but the clusters are each of a similar size. The silhouette score and WCSS indicates that there is a good distance between clusters and that the clusters are dense. Therefore, I trust that the algorithm has returned a reliable model. Further market research into the represented categories should prove effective in interpreting these clusters.\n"
      ]
    },
    {
      "cell_type": "code",
      "metadata": {
        "id": "Yj9dy9dK-wDt",
        "colab_type": "code",
        "outputId": "225f022a-c5b4-481e-f656-cddd9362fe9b",
        "colab": {
          "base_uri": "https://localhost:8080/",
          "height": 1000
        }
      },
      "source": [
        "from pprint import PrettyPrinter\n",
        "print(\"Cluster maximum means and minimum means\", \"\\n\")\n",
        "pp = PrettyPrinter(indent = 2)\n",
        "pp.pprint(max_and_min_to_dict(norm_df))"
      ],
      "execution_count": 29,
      "outputs": [
        {
          "output_type": "stream",
          "text": [
            "Cluster maximum means and minimum means \n",
            "\n",
            "{ '0_maximum': [ 'age',\n",
            "                 'cute',\n",
            "                 'sex',\n",
            "                 'music',\n",
            "                 'god',\n",
            "                 'jesus',\n",
            "                 'bible',\n",
            "                 'dress',\n",
            "                 'shopping',\n",
            "                 'death',\n",
            "                 'drunk',\n",
            "                 'drugs',\n",
            "                 'F'],\n",
            "  '0_minimum': ['basketball', 'soccer', 'sports', 'M', 'cluster'],\n",
            "  '1_maximum': ['hot', 'kissed'],\n",
            "  '1_minimum': ['jesus'],\n",
            "  '2_maximum': ['tennis', 'band', 'marching', 'die', 'M'],\n",
            "  '2_minimum': [ 'friends',\n",
            "                 'softball',\n",
            "                 'volleyball',\n",
            "                 'cheerleading',\n",
            "                 'cute',\n",
            "                 'sexy',\n",
            "                 'hot',\n",
            "                 'kissed',\n",
            "                 'dance',\n",
            "                 'church',\n",
            "                 'hair',\n",
            "                 'blonde',\n",
            "                 'mall',\n",
            "                 'clothes',\n",
            "                 'hollister',\n",
            "                 'abercrombie',\n",
            "                 'drugs',\n",
            "                 'F'],\n",
            "  '3_maximum': [ 'basketball',\n",
            "                 'football',\n",
            "                 'soccer',\n",
            "                 'baseball',\n",
            "                 'sports',\n",
            "                 'rock'],\n",
            "  '3_minimum': [ 'swimming',\n",
            "                 'music',\n",
            "                 'god',\n",
            "                 'dress',\n",
            "                 'shopping',\n",
            "                 'death',\n",
            "                 'drunk'],\n",
            "  '4_maximum': [ 'friends',\n",
            "                 'softball',\n",
            "                 'volleyball',\n",
            "                 'swimming',\n",
            "                 'cheerleading',\n",
            "                 'sexy',\n",
            "                 'dance',\n",
            "                 'church',\n",
            "                 'hair',\n",
            "                 'blonde',\n",
            "                 'mall',\n",
            "                 'clothes',\n",
            "                 'hollister',\n",
            "                 'abercrombie',\n",
            "                 'cluster'],\n",
            "  '4_minimum': [ 'age',\n",
            "                 'football',\n",
            "                 'baseball',\n",
            "                 'tennis',\n",
            "                 'sex',\n",
            "                 'band',\n",
            "                 'marching',\n",
            "                 'rock',\n",
            "                 'bible',\n",
            "                 'die']}\n"
          ],
          "name": "stdout"
        }
      ]
    }
  ]
}